{
 "cells": [
  {
   "cell_type": "markdown",
   "id": "aaf16406-5343-4128-8fdf-2ead6d57acf9",
   "metadata": {},
   "source": [
    "@ alan yeh. ai by hand\n",
    "https://aibyhand.substack.com/"
   ]
  },
  {
   "cell_type": "code",
   "execution_count": 1,
   "id": "26474f75-8d4f-4b1c-886c-b5e907c7d77f",
   "metadata": {
    "scrolled": true
   },
   "outputs": [
    {
     "name": "stdout",
     "output_type": "stream",
     "text": [
      "Python 3.11.7\n"
     ]
    }
   ],
   "source": [
    "!python3 --version"
   ]
  },
  {
   "cell_type": "code",
   "execution_count": 62,
   "id": "da264fb4-12d1-4e96-9ee8-747abb9054e7",
   "metadata": {},
   "outputs": [
    {
     "data": {
      "text/plain": [
       "'1.26.4'"
      ]
     },
     "execution_count": 62,
     "metadata": {},
     "output_type": "execute_result"
    }
   ],
   "source": [
    "import numpy as np\n",
    "np.version.full_version"
   ]
  },
  {
   "cell_type": "code",
   "execution_count": 33,
   "id": "d73da94f-4a03-44c1-afc4-4ca47f91eeb5",
   "metadata": {},
   "outputs": [
    {
     "data": {
      "text/plain": [
       "array([[False,  True],\n",
       "       [ True, False]])"
      ]
     },
     "execution_count": 33,
     "metadata": {},
     "output_type": "execute_result"
    }
   ],
   "source": [
    "def m(*x):\n",
    "    return np.array([[*x]])\n",
    "\n",
    "def M(*x):\n",
    "    return np.array([*x])\n",
    "\n",
    "m(5,2).T!=m(5,2)"
   ]
  },
  {
   "cell_type": "markdown",
   "id": "d5799e3e-4c96-490f-bd34-f970ed1799d6",
   "metadata": {},
   "source": [
    "https://aibyhand.substack.com/p/w2-matrix-multiplication"
   ]
  },
  {
   "cell_type": "code",
   "execution_count": 34,
   "id": "60653868-9a0f-47b6-8b96-a7fab44e621a",
   "metadata": {},
   "outputs": [
    {
     "data": {
      "text/plain": [
       "array([[15,  6]])"
      ]
     },
     "execution_count": 34,
     "metadata": {},
     "output_type": "execute_result"
    }
   ],
   "source": [
    "# ex1\n",
    "m(3)@m(5,2)"
   ]
  },
  {
   "cell_type": "code",
   "execution_count": 35,
   "id": "15b812ed-d044-4888-9abe-bf5d9ef78851",
   "metadata": {},
   "outputs": [
    {
     "data": {
      "text/plain": [
       "array([[12],\n",
       "       [ 8]])"
      ]
     },
     "execution_count": 35,
     "metadata": {},
     "output_type": "execute_result"
    }
   ],
   "source": [
    "# ex2\n",
    "m(3,2).T@m(4)"
   ]
  },
  {
   "cell_type": "code",
   "execution_count": 36,
   "id": "df5b7bc8-e7a6-4286-b0b0-74d235f9eaab",
   "metadata": {},
   "outputs": [
    {
     "data": {
      "text/plain": [
       "array([[ 1, -1],\n",
       "       [-1,  1]])"
      ]
     },
     "execution_count": 36,
     "metadata": {},
     "output_type": "execute_result"
    }
   ],
   "source": [
    "# ex3\n",
    "m(1,-1).T@m(1,-1)"
   ]
  },
  {
   "cell_type": "code",
   "execution_count": 37,
   "id": "f9ceb677-b2d5-46dc-9240-7788cbcb8614",
   "metadata": {},
   "outputs": [
    {
     "data": {
      "text/plain": [
       "array([[ 6, -6],\n",
       "       [ 4, -4]])"
      ]
     },
     "execution_count": 37,
     "metadata": {},
     "output_type": "execute_result"
    }
   ],
   "source": [
    "# ex4\n",
    "m(3,2).T@m(2,-2)"
   ]
  },
  {
   "cell_type": "code",
   "execution_count": 38,
   "id": "b52ece7c-eb46-4a93-988a-94274ac07511",
   "metadata": {},
   "outputs": [
    {
     "data": {
      "text/plain": [
       "array([[ 3, -5],\n",
       "       [ 0,  0]])"
      ]
     },
     "execution_count": 38,
     "metadata": {},
     "output_type": "execute_result"
    }
   ],
   "source": [
    "# ex5\n",
    "m(1,0).T@m(3,-5)"
   ]
  },
  {
   "cell_type": "code",
   "execution_count": 39,
   "id": "e8070f9d-e9c2-4f2b-952a-ff91ae701b36",
   "metadata": {},
   "outputs": [
    {
     "data": {
      "text/plain": [
       "array([[ 4, -2],\n",
       "       [-4,  2]])"
      ]
     },
     "execution_count": 39,
     "metadata": {},
     "output_type": "execute_result"
    }
   ],
   "source": [
    "# ex6\n",
    "m(1,-1).T@m(4,-2)"
   ]
  },
  {
   "cell_type": "code",
   "execution_count": 40,
   "id": "0368f7a0-8b22-42b0-9a20-8c6d8adfed2a",
   "metadata": {},
   "outputs": [
    {
     "data": {
      "text/plain": [
       "array([[ 4,  5],\n",
       "       [-2,  1]])"
      ]
     },
     "execution_count": 40,
     "metadata": {},
     "output_type": "execute_result"
    }
   ],
   "source": [
    "# ex7\n",
    "M([1,1],[1,-1])@M([1,3],[3,2])"
   ]
  },
  {
   "cell_type": "code",
   "execution_count": 41,
   "id": "082fc2aa-1d0c-4c41-abf1-b6dae30a08ab",
   "metadata": {},
   "outputs": [
    {
     "data": {
      "text/plain": [
       "array([[ 6,  8],\n",
       "       [-2,  2]])"
      ]
     },
     "execution_count": 41,
     "metadata": {},
     "output_type": "execute_result"
    }
   ],
   "source": [
    "# ex8\n",
    "M([1,1],[1,-1])@M([2,5],[4,3])"
   ]
  },
  {
   "cell_type": "code",
   "execution_count": 42,
   "id": "6f94ce05-02d6-4780-8437-9e96a74b844a",
   "metadata": {},
   "outputs": [
    {
     "data": {
      "text/plain": [
       "array([[ 1,  5],\n",
       "       [-1,  9]])"
      ]
     },
     "execution_count": 42,
     "metadata": {},
     "output_type": "execute_result"
    }
   ],
   "source": [
    "# ex9\n",
    "M([3,2],[4,5])@M([1,1],[-1,1])"
   ]
  },
  {
   "cell_type": "code",
   "execution_count": 43,
   "id": "d81ffdd0-142a-4d5b-9bb6-1fd10a89be5f",
   "metadata": {},
   "outputs": [
    {
     "data": {
      "text/plain": [
       "array([[ 0, 10],\n",
       "       [-4,  0]])"
      ]
     },
     "execution_count": 43,
     "metadata": {},
     "output_type": "execute_result"
    }
   ],
   "source": [
    "# ex10\n",
    "M([5,5],[-2,2])@M([1,1],[-1,1])"
   ]
  },
  {
   "cell_type": "code",
   "execution_count": 44,
   "id": "405cd080-458a-495f-b2d5-09dc693102e9",
   "metadata": {},
   "outputs": [
    {
     "data": {
      "text/plain": [
       "array([[ 2,  4, -2, -4],\n",
       "       [-2,  6,  2, -6]])"
      ]
     },
     "execution_count": 44,
     "metadata": {},
     "output_type": "execute_result"
    }
   ],
   "source": [
    "# ex11\n",
    "M([3,1],[2,4])@M([1,1,-1,-1],[-1,1,1,-1])"
   ]
  },
  {
   "cell_type": "code",
   "execution_count": 45,
   "id": "b4a246a6-62fe-454d-80f5-0ac48ce6e79b",
   "metadata": {},
   "outputs": [
    {
     "data": {
      "text/plain": [
       "array([[ 5,  5,  3,  3],\n",
       "       [ 3,  1,  1, -1],\n",
       "       [ 4,  3,  2,  1]])"
      ]
     },
     "execution_count": 45,
     "metadata": {},
     "output_type": "execute_result"
    }
   ],
   "source": [
    "# ex12\n",
    "M([1,1],[1,-1],[1,0])@M([4,3,2,1],[1,2,1,2])"
   ]
  },
  {
   "cell_type": "code",
   "execution_count": 46,
   "id": "9b147f78-366b-4b24-add6-108cb2849bf6",
   "metadata": {},
   "outputs": [
    {
     "data": {
      "text/plain": [
       "array([[6, 0],\n",
       "       [7, 4]])"
      ]
     },
     "execution_count": 46,
     "metadata": {},
     "output_type": "execute_result"
    }
   ],
   "source": [
    "# ex13\n",
    "M([1,0,1],[0,1,1])@M([2,1],[3,5],[4,-1])"
   ]
  },
  {
   "cell_type": "code",
   "execution_count": 50,
   "id": "237385a3-7a1b-4127-bc0d-fe11dbcede81",
   "metadata": {},
   "outputs": [
    {
     "data": {
      "text/plain": [
       "array([[6, 2],\n",
       "       [3, 5]])"
      ]
     },
     "execution_count": 50,
     "metadata": {},
     "output_type": "execute_result"
    }
   ],
   "source": [
    "# ex14\n",
    "M([3,3,-1],[2,1,3])@M([1,1],[1,0],[0,1])"
   ]
  },
  {
   "cell_type": "code",
   "execution_count": 51,
   "id": "3ff16acf-06f3-4486-a5d9-cc116db8fcb4",
   "metadata": {},
   "outputs": [
    {
     "data": {
      "text/plain": [
       "array([[ 5,  4,  2],\n",
       "       [ 3,  3, -1],\n",
       "       [ 2,  1,  3]])"
      ]
     },
     "execution_count": 51,
     "metadata": {},
     "output_type": "execute_result"
    }
   ],
   "source": [
    "# ex15\n",
    "M([1,1],[1,0],[0,1])@M([3,3,-1],[2,1,3])"
   ]
  },
  {
   "cell_type": "code",
   "execution_count": 52,
   "id": "ac161a38-8660-44d3-b79d-6ff521ef4a5c",
   "metadata": {},
   "outputs": [
    {
     "data": {
      "text/plain": [
       "array([[ 3, -1],\n",
       "       [ 5,  3]])"
      ]
     },
     "execution_count": 52,
     "metadata": {},
     "output_type": "execute_result"
    }
   ],
   "source": [
    "# ex16\n",
    "M([0,1,1],[1,1,0])@M([3,2],[2,1],[1,-2])"
   ]
  },
  {
   "cell_type": "code",
   "execution_count": 53,
   "id": "f7d0be2c-4ef8-4654-8aef-115874d5d1e5",
   "metadata": {},
   "outputs": [
    {
     "data": {
      "text/plain": [
       "array([[1, 3],\n",
       "       [2, 6]])"
      ]
     },
     "execution_count": 53,
     "metadata": {},
     "output_type": "execute_result"
    }
   ],
   "source": [
    "# ex17\n",
    "M([1,0,1],[1,1,0])@M([-2,2],[4,4],[3,1])"
   ]
  },
  {
   "cell_type": "code",
   "execution_count": 54,
   "id": "989b86df-7927-4f77-9a7d-9d37b766e2e8",
   "metadata": {},
   "outputs": [
    {
     "data": {
      "text/plain": [
       "array([[9, 5],\n",
       "       [0, 1]])"
      ]
     },
     "execution_count": 54,
     "metadata": {},
     "output_type": "execute_result"
    }
   ],
   "source": [
    "# ex18\n",
    "M([1,1,0,1],[1,0,1,-1])@M([3,2],[2,0],[1,2],[4,3])"
   ]
  },
  {
   "cell_type": "code",
   "execution_count": 55,
   "id": "35566e75-1ef1-47e0-9b61-11fcaffa8e48",
   "metadata": {},
   "outputs": [
    {
     "data": {
      "text/plain": [
       "array([[ 5,  3,  2,  1],\n",
       "       [ 2,  2,  0,  2],\n",
       "       [ 3,  1,  2, -1],\n",
       "       [ 7,  4,  3,  1]])"
      ]
     },
     "execution_count": 55,
     "metadata": {},
     "output_type": "execute_result"
    }
   ],
   "source": [
    "# ex19\n",
    "M([3,2],[2,0],[1,2],[4,3])@M([1,1,0,1],[1,0,1,-1])"
   ]
  },
  {
   "cell_type": "code",
   "execution_count": 56,
   "id": "33093a61-582d-4123-84c7-8728cb36c858",
   "metadata": {},
   "outputs": [
    {
     "data": {
      "text/plain": [
       "array([[5, 3],\n",
       "       [3, 2],\n",
       "       [5, 4],\n",
       "       [7, 5]])"
      ]
     },
     "execution_count": 56,
     "metadata": {},
     "output_type": "execute_result"
    }
   ],
   "source": [
    "# ex20\n",
    "M([1,1,0,0],[0,1,1,0],[0,0,1,1],[1,0,0,1])@M([3,2],[2,1],[1,1],[4,3])"
   ]
  },
  {
   "cell_type": "code",
   "execution_count": 57,
   "id": "0ede03a6-7beb-4260-8c77-24d874ec181b",
   "metadata": {},
   "outputs": [
    {
     "data": {
      "text/plain": [
       "array([[ 1,  1],\n",
       "       [ 1,  0],\n",
       "       [-3, -2],\n",
       "       [ 1,  1]])"
      ]
     },
     "execution_count": 57,
     "metadata": {},
     "output_type": "execute_result"
    }
   ],
   "source": [
    "# ex21\n",
    "M([1,-1,0,0],[0,1,-1,0],[0,0,1,-1],[-1,0,0,1])@M([3,2],[2,1],[1,1],[4,3])"
   ]
  },
  {
   "cell_type": "code",
   "execution_count": 63,
   "id": "d4fd6326-28b8-40c5-b58a-c59673268d1c",
   "metadata": {},
   "outputs": [
    {
     "data": {
      "text/plain": [
       "array([[ 9, -2,  0,  5,  7],\n",
       "       [13,  3,  1,  4, 16]])"
      ]
     },
     "execution_count": 63,
     "metadata": {},
     "output_type": "execute_result"
    }
   ],
   "source": [
    "# ex22\n",
    "M([9,-2,0,5],[13,3,1,4])@M([1,0,0,0,1],[0,1,0,0,1],[0,0,1,0,0],[0,0,0,1,0])"
   ]
  },
  {
   "cell_type": "code",
   "execution_count": 65,
   "id": "51123498-d40b-4d7e-b7a9-3074f056e89c",
   "metadata": {},
   "outputs": [
    {
     "data": {
      "text/plain": [
       "array([[-1,  1,  0,  2,  2],\n",
       "       [ 2,  5,  6,  4,  9]])"
      ]
     },
     "execution_count": 65,
     "metadata": {},
     "output_type": "execute_result"
    }
   ],
   "source": [
    "# ex23\n",
    "M([2,-1,1,0],[3,2,4,1])@M([0,0,0,1,1],[1,0,1,0,1],[0,1,1,0,1],[0,1,0,1,0])"
   ]
  },
  {
   "cell_type": "code",
   "execution_count": 67,
   "id": "95ae4e58-47f9-4792-a325-11c35cb97975",
   "metadata": {},
   "outputs": [
    {
     "data": {
      "text/plain": [
       "array([[-1, -1],\n",
       "       [ 2,  1],\n",
       "       [-2, -1],\n",
       "       [ 7,  5]])"
      ]
     },
     "execution_count": 67,
     "metadata": {},
     "output_type": "execute_result"
    }
   ],
   "source": [
    "# ex24\n",
    "M([-1,1,0,0],[0,1,0,0],[-1,0,1,0],[1,0,0,1])@M([3,2],[2,1],[1,1],[4,3])"
   ]
  },
  {
   "cell_type": "code",
   "execution_count": 48,
   "id": "faaf0fdf-9902-4bbc-a335-fd301f9649cf",
   "metadata": {},
   "outputs": [
    {
     "data": {
      "text/plain": [
       "array([[ 1,  1,  2,  1,  3],\n",
       "       [ 1,  1,  2,  1,  2],\n",
       "       [ 0,  1,  1,  2,  2],\n",
       "       [ 1,  0,  1,  2,  2],\n",
       "       [ 1, -1,  0,  2,  1]])"
      ]
     },
     "execution_count": 48,
     "metadata": {},
     "output_type": "execute_result"
    }
   ],
   "source": [
    "# ex25\n",
    "M([1,1,1,0],[0,1,1,1],[1,0,1,1],[1,1,0,1],[1,1,-1,1])@M([0,0,0,1,1],[1,0,1,0,1],[0,1,1,0,1],[0,0,0,1,0])"
   ]
  },
  {
   "cell_type": "markdown",
   "id": "54802f8b-a589-4415-9abb-0013e27a639c",
   "metadata": {},
   "source": [
    "https://aibyhand.substack.com/p/w3-linear-layer"
   ]
  },
  {
   "cell_type": "code",
   "execution_count": 116,
   "id": "0c69bf57-843d-432e-a32d-02059dd180d5",
   "metadata": {},
   "outputs": [],
   "source": [
    "def L(w,x):\n",
    "    # bias w[:,-1:]\n",
    "    # weight w[:,:-1]\n",
    "    return w[:,:-1]@x+w[:,-1:]"
   ]
  },
  {
   "cell_type": "code",
   "execution_count": 117,
   "id": "398e8e5e-e1b5-43f2-a108-f169e33c16da",
   "metadata": {},
   "outputs": [
    {
     "data": {
      "text/plain": [
       "array([[12]])"
      ]
     },
     "execution_count": 117,
     "metadata": {},
     "output_type": "execute_result"
    }
   ],
   "source": [
    "L(M([3,0]), m(4))"
   ]
  },
  {
   "cell_type": "code",
   "execution_count": 118,
   "id": "6703ea01-8ea2-44fc-b010-ca2b62096741",
   "metadata": {},
   "outputs": [
    {
     "data": {
      "text/plain": [
       "array([[14]])"
      ]
     },
     "execution_count": 118,
     "metadata": {},
     "output_type": "execute_result"
    }
   ],
   "source": [
    "L(M([3,2]), m(4))"
   ]
  },
  {
   "cell_type": "code",
   "execution_count": 119,
   "id": "ec422e04-2c50-4332-9fdd-3ce6bf4ae16c",
   "metadata": {},
   "outputs": [
    {
     "data": {
      "text/plain": [
       "array([[11]])"
      ]
     },
     "execution_count": 119,
     "metadata": {},
     "output_type": "execute_result"
    }
   ],
   "source": [
    "L(M([3,-1]), m(4))"
   ]
  },
  {
   "cell_type": "code",
   "execution_count": 120,
   "id": "cef9715a-bca8-472f-b4e3-c43e548b3803",
   "metadata": {},
   "outputs": [
    {
     "data": {
      "text/plain": [
       "array([[14],\n",
       "       [10]])"
      ]
     },
     "execution_count": 120,
     "metadata": {},
     "output_type": "execute_result"
    }
   ],
   "source": [
    "L(M([3,2],[3,-2]), m(4))"
   ]
  },
  {
   "cell_type": "code",
   "execution_count": 121,
   "id": "a581a593-b93d-48c6-bb00-411021a50057",
   "metadata": {},
   "outputs": [
    {
     "data": {
      "text/plain": [
       "array([[8],\n",
       "       [4],\n",
       "       [2]])"
      ]
     },
     "execution_count": 121,
     "metadata": {},
     "output_type": "execute_result"
    }
   ],
   "source": [
    "L(M([3,2],[3,-2],[3,-4]), m(2))"
   ]
  },
  {
   "cell_type": "code",
   "execution_count": 122,
   "id": "4025db47-11e2-4acd-b639-26df77e8e7f2",
   "metadata": {},
   "outputs": [
    {
     "data": {
      "text/plain": [
       "array([[1]])"
      ]
     },
     "execution_count": 122,
     "metadata": {},
     "output_type": "execute_result"
    }
   ],
   "source": [
    "L(M([1,-1,0]), M([2],[1]))"
   ]
  },
  {
   "cell_type": "code",
   "execution_count": 123,
   "id": "96e20bc8-df31-48b2-9244-0af54d3ace1c",
   "metadata": {},
   "outputs": [
    {
     "data": {
      "text/plain": [
       "array([[9]])"
      ]
     },
     "execution_count": 123,
     "metadata": {},
     "output_type": "execute_result"
    }
   ],
   "source": [
    "L(M([2,1,2]), M([2],[3]))"
   ]
  },
  {
   "cell_type": "code",
   "execution_count": 124,
   "id": "d132b27e-1b3e-4386-ba48-b4605e2d0358",
   "metadata": {},
   "outputs": [
    {
     "data": {
      "text/plain": [
       "array([[1],\n",
       "       [3]])"
      ]
     },
     "execution_count": 124,
     "metadata": {},
     "output_type": "execute_result"
    }
   ],
   "source": [
    "L(M([1,1,0],[1,-1,0]), M([2],[-1]))"
   ]
  },
  {
   "cell_type": "code",
   "execution_count": 125,
   "id": "79d92734-c542-4906-b839-3b708262d138",
   "metadata": {},
   "outputs": [
    {
     "data": {
      "text/plain": [
       "array([[5],\n",
       "       [3]])"
      ]
     },
     "execution_count": 125,
     "metadata": {},
     "output_type": "execute_result"
    }
   ],
   "source": [
    "L(M([1,1,2],[1,-1,2]), M([2],[1]))"
   ]
  },
  {
   "cell_type": "code",
   "execution_count": 126,
   "id": "94dd49a3-f985-4d6f-add7-089d5980a1d7",
   "metadata": {},
   "outputs": [
    {
     "data": {
      "text/plain": [
       "array([[5],\n",
       "       [2],\n",
       "       [1]])"
      ]
     },
     "execution_count": 126,
     "metadata": {},
     "output_type": "execute_result"
    }
   ],
   "source": [
    "L(M([1,1,0],[0,1,0],[1,-1,0]), M([3],[2]))"
   ]
  },
  {
   "cell_type": "code",
   "execution_count": 127,
   "id": "9b4df404-b631-41bb-8ed8-8fcbc2b9b28f",
   "metadata": {},
   "outputs": [
    {
     "data": {
      "text/plain": [
       "array([[11],\n",
       "       [-3],\n",
       "       [ 3]])"
      ]
     },
     "execution_count": 127,
     "metadata": {},
     "output_type": "execute_result"
    }
   ],
   "source": [
    "L(M([1,1,0],[1,-1,0],[-1,1,0]), M([4],[7]))"
   ]
  },
  {
   "cell_type": "code",
   "execution_count": 128,
   "id": "06f91415-48b4-4812-94cb-de73430621d1",
   "metadata": {},
   "outputs": [
    {
     "data": {
      "text/plain": [
       "array([[6],\n",
       "       [2]])"
      ]
     },
     "execution_count": 128,
     "metadata": {},
     "output_type": "execute_result"
    }
   ],
   "source": [
    "L(M([1,-1,1,0],[1,1,1,0]), M([1],[-2],[3]))"
   ]
  },
  {
   "cell_type": "code",
   "execution_count": 129,
   "id": "7f0709d0-3082-4a42-9662-191e8f773c35",
   "metadata": {},
   "outputs": [
    {
     "data": {
      "text/plain": [
       "array([[3],\n",
       "       [4]])"
      ]
     },
     "execution_count": 129,
     "metadata": {},
     "output_type": "execute_result"
    }
   ],
   "source": [
    "L(M([1,1,0,-1],[1,0,1,-1]), M([3],[1],[2]))"
   ]
  },
  {
   "cell_type": "code",
   "execution_count": 130,
   "id": "db171ca4-607e-495e-a8c5-705d6c4da4fa",
   "metadata": {},
   "outputs": [
    {
     "data": {
      "text/plain": [
       "array([[4],\n",
       "       [3],\n",
       "       [5]])"
      ]
     },
     "execution_count": 130,
     "metadata": {},
     "output_type": "execute_result"
    }
   ],
   "source": [
    "L(M([1,1,0,0],[0,1,1,0],[1,0,1,0]), M([3],[1],[2]))"
   ]
  },
  {
   "cell_type": "code",
   "execution_count": 131,
   "id": "fe1d80b9-d11f-4603-8ab7-064f8ec3b17c",
   "metadata": {},
   "outputs": [
    {
     "data": {
      "text/plain": [
       "array([[5]])"
      ]
     },
     "execution_count": 131,
     "metadata": {},
     "output_type": "execute_result"
    }
   ],
   "source": [
    "L(M([1,1,0]), M([2],[3]))"
   ]
  },
  {
   "cell_type": "code",
   "execution_count": 132,
   "id": "7d60fb9a-40b3-4b3f-86be-c2a044d15cd1",
   "metadata": {},
   "outputs": [
    {
     "data": {
      "text/plain": [
       "array([[2]])"
      ]
     },
     "execution_count": 132,
     "metadata": {},
     "output_type": "execute_result"
    }
   ],
   "source": [
    "L(M([1,0,0]), M([2],[3]))"
   ]
  },
  {
   "cell_type": "code",
   "execution_count": 133,
   "id": "dd26fb68-987d-4b6a-8ed4-4a0b77fb458c",
   "metadata": {},
   "outputs": [
    {
     "data": {
      "text/plain": [
       "array([[5]])"
      ]
     },
     "execution_count": 133,
     "metadata": {},
     "output_type": "execute_result"
    }
   ],
   "source": [
    "L(M([1,1,2]), M([2],[1]))"
   ]
  },
  {
   "cell_type": "code",
   "execution_count": 134,
   "id": "9d21a06f-b44f-4441-9034-2a119a1c389c",
   "metadata": {},
   "outputs": [
    {
     "data": {
      "text/plain": [
       "array([[1]])"
      ]
     },
     "execution_count": 134,
     "metadata": {},
     "output_type": "execute_result"
    }
   ],
   "source": [
    "L(M([1,1,-2]), M([2],[1]))"
   ]
  },
  {
   "cell_type": "code",
   "execution_count": 135,
   "id": "90640071-d8e7-4eb3-bbdd-65230ca324c8",
   "metadata": {},
   "outputs": [
    {
     "data": {
      "text/plain": [
       "array([[ 2],\n",
       "       [-2]])"
      ]
     },
     "execution_count": 135,
     "metadata": {},
     "output_type": "execute_result"
    }
   ],
   "source": [
    "L(M([-1,1,0],[1,-1,0]), M([3],[5]))"
   ]
  },
  {
   "cell_type": "code",
   "execution_count": 136,
   "id": "94876880-855d-410a-aab1-3c597efd3f68",
   "metadata": {},
   "outputs": [
    {
     "data": {
      "text/plain": [
       "array([[ 8],\n",
       "       [10]])"
      ]
     },
     "execution_count": 136,
     "metadata": {},
     "output_type": "execute_result"
    }
   ],
   "source": [
    "L(M([1,2,0],[1,3,0]), M([4],[2]))"
   ]
  },
  {
   "cell_type": "code",
   "execution_count": 137,
   "id": "9b90aeb9-d13f-4952-9d40-751a82908bff",
   "metadata": {},
   "outputs": [
    {
     "data": {
      "text/plain": [
       "array([[ 8],\n",
       "       [12]])"
      ]
     },
     "execution_count": 137,
     "metadata": {},
     "output_type": "execute_result"
    }
   ],
   "source": [
    "L(M([1,2,1],[1,2,5]), M([3],[2]))"
   ]
  },
  {
   "cell_type": "code",
   "execution_count": 138,
   "id": "217904ca-771f-4d80-abc6-0516ae85c4fb",
   "metadata": {},
   "outputs": [
    {
     "data": {
      "text/plain": [
       "array([[5],\n",
       "       [8],\n",
       "       [9]])"
      ]
     },
     "execution_count": 138,
     "metadata": {},
     "output_type": "execute_result"
    }
   ],
   "source": [
    "L(M([1,1,0],[2,1,0],[3,0,0]), M([3],[2]))"
   ]
  },
  {
   "cell_type": "code",
   "execution_count": 139,
   "id": "3f25534b-25f1-412c-b16e-242893ea0f4b",
   "metadata": {},
   "outputs": [
    {
     "data": {
      "text/plain": [
       "array([[3],\n",
       "       [5],\n",
       "       [7]])"
      ]
     },
     "execution_count": 139,
     "metadata": {},
     "output_type": "execute_result"
    }
   ],
   "source": [
    "L(M([1,1,0],[2,1,0],[3,1,0]), M([2],[1]))"
   ]
  },
  {
   "cell_type": "code",
   "execution_count": 141,
   "id": "1bcbfd5b-64fb-4c0d-be75-f1eb89010671",
   "metadata": {},
   "outputs": [
    {
     "data": {
      "text/plain": [
       "array([[3],\n",
       "       [1],\n",
       "       [5]])"
      ]
     },
     "execution_count": 141,
     "metadata": {},
     "output_type": "execute_result"
    }
   ],
   "source": [
    "L(M([1,1,0,0],[1,1,-1,0],[1,1,1,0]), M([2],[1],[2]))"
   ]
  },
  {
   "cell_type": "code",
   "execution_count": 146,
   "id": "22c6b687-613f-4402-b037-f784a20f6266",
   "metadata": {},
   "outputs": [
    {
     "data": {
      "text/plain": [
       "array([[7],\n",
       "       [5],\n",
       "       [3]])"
      ]
     },
     "execution_count": 146,
     "metadata": {},
     "output_type": "execute_result"
    }
   ],
   "source": [
    "L(M([1,1,0,0],[1,1,0,-2],[1,1,0,-4]), M([2],[5],[1]))"
   ]
  },
  {
   "cell_type": "markdown",
   "id": "9c9b79ed-0cd5-4dfe-9a1c-002b53967ae8",
   "metadata": {},
   "source": [
    "https://aibyhand.substack.com/p/w4-activation"
   ]
  },
  {
   "cell_type": "code",
   "execution_count": 328,
   "id": "1a7596a2-18bb-4b0a-8bd4-6bdc80b916dd",
   "metadata": {},
   "outputs": [],
   "source": [
    "def relu(x):\n",
    "    return np.where(x >= 0, x, x==0)\n",
    "\n",
    "def sig3(x):\n",
    "    cond1 = x >= 2\n",
    "    cond2 = (-1 <= x) & (x <= 1)\n",
    "    cond3 = (x <= -2)\n",
    "    vals = [1, 0.5, 0]\n",
    "    return np.select([cond1, cond2, cond3], vals)\n",
    "\n",
    "def sig5(x):\n",
    "    cond1 = x >= 2\n",
    "    cond2 = (1 <= x) & (x < 2)\n",
    "    cond3 = (0 <= x) & (x < 1)\n",
    "    cond4 = (-2 < x) & (x < 0)\n",
    "    cond5 = (x <= -2)\n",
    "    vals = [1, 0.7, 0.5, 0.3, 0]\n",
    "    return np.select([cond1, cond2, cond3, cond4, cond5], vals)\n",
    "\n",
    "def tanh3(x):\n",
    "    cond1 = x >= 2\n",
    "    cond2 = (-1 <= x) & (x <= 1)\n",
    "    cond3 = (x <= -2)\n",
    "    vals = [1, 0, -1]\n",
    "    return np.select([cond1, cond2, cond3], vals)\n",
    "\n",
    "def tanh5(x):\n",
    "    cond1 = x >= 2\n",
    "    cond2 = (1 <= x) & (x < 2)\n",
    "    cond3 = (0 <= x) & (x < 1)\n",
    "    cond4 = (-2 < x) & (x < 0)\n",
    "    cond5 = (x <= -2)\n",
    "    vals = [1, 0.8, 0, -0.8, -1]\n",
    "    return np.select([cond1, cond2, cond3, cond4, cond5], vals)"
   ]
  },
  {
   "cell_type": "code",
   "execution_count": 184,
   "id": "5a8e130d-0bf0-46ac-bd0f-3105b4c0d83a",
   "metadata": {},
   "outputs": [
    {
     "name": "stdout",
     "output_type": "stream",
     "text": [
      "[[ 1]\n",
      " [-1]\n",
      " [-3]]\n"
     ]
    },
    {
     "data": {
      "text/plain": [
       "array([[1],\n",
       "       [0],\n",
       "       [0]])"
      ]
     },
     "execution_count": 184,
     "metadata": {},
     "output_type": "execute_result"
    }
   ],
   "source": [
    "x = L(M([1,-1,0],[1,-2,0],[1,-3,0]), M([3],[2]))\n",
    "relu(x)"
   ]
  },
  {
   "cell_type": "code",
   "execution_count": 185,
   "id": "bc29c04c-5da3-49f6-af3d-4dca11e3a1f2",
   "metadata": {},
   "outputs": [
    {
     "data": {
      "text/plain": [
       "array([[3],\n",
       "       [1],\n",
       "       [0]])"
      ]
     },
     "execution_count": 185,
     "metadata": {},
     "output_type": "execute_result"
    }
   ],
   "source": [
    "x = L(M([1,1,-2],[1,1,-4],[1,1,-6]), M([3],[2]))\n",
    "relu(x)"
   ]
  },
  {
   "cell_type": "code",
   "execution_count": 182,
   "id": "37e6eb03-99ba-4bc0-833c-c70daef5ffa6",
   "metadata": {},
   "outputs": [
    {
     "data": {
      "text/plain": [
       "array([[5],\n",
       "       [4],\n",
       "       [3],\n",
       "       [2],\n",
       "       [1],\n",
       "       [0],\n",
       "       [0],\n",
       "       [0],\n",
       "       [0],\n",
       "       [0],\n",
       "       [0]])"
      ]
     },
     "execution_count": 182,
     "metadata": {},
     "output_type": "execute_result"
    }
   ],
   "source": [
    "relu(M([5],[4],[3],[2],[1],[0],[-1],[-2],[-3],[-4],[-5]))"
   ]
  },
  {
   "cell_type": "code",
   "execution_count": 199,
   "id": "bbe8409f-df7c-48ce-8e8e-7fd41d8764fb",
   "metadata": {},
   "outputs": [
    {
     "data": {
      "text/plain": [
       "array([[5],\n",
       "       [4],\n",
       "       [3],\n",
       "       [2],\n",
       "       [1],\n",
       "       [0],\n",
       "       [0],\n",
       "       [0],\n",
       "       [0],\n",
       "       [0],\n",
       "       [0]])"
      ]
     },
     "execution_count": 199,
     "metadata": {},
     "output_type": "execute_result"
    }
   ],
   "source": [
    "relu(M([[i] for i in range(5, -6, -1)]))[0]"
   ]
  },
  {
   "cell_type": "code",
   "execution_count": 200,
   "id": "cb1bb944-2a92-47b5-9020-7cf6a50caa06",
   "metadata": {},
   "outputs": [
    {
     "data": {
      "text/plain": [
       "array([[2],\n",
       "       [0],\n",
       "       [0]])"
      ]
     },
     "execution_count": 200,
     "metadata": {},
     "output_type": "execute_result"
    }
   ],
   "source": [
    "relu(M([2],[0],[-2]))"
   ]
  },
  {
   "cell_type": "code",
   "execution_count": 294,
   "id": "4fc53acc-e747-46f9-bdba-f504a00dd0d6",
   "metadata": {},
   "outputs": [
    {
     "data": {
      "text/plain": [
       "array([[1. ],\n",
       "       [0.5],\n",
       "       [0. ]])"
      ]
     },
     "execution_count": 294,
     "metadata": {},
     "output_type": "execute_result"
    }
   ],
   "source": [
    "x=M([2],[0],[-2])\n",
    "sig3(x)"
   ]
  },
  {
   "cell_type": "code",
   "execution_count": 295,
   "id": "a363bff5-317a-4ea1-b667-12a9ee84d180",
   "metadata": {},
   "outputs": [
    {
     "data": {
      "text/plain": [
       "array([[0. ],\n",
       "       [0.5],\n",
       "       [0.5]])"
      ]
     },
     "execution_count": 295,
     "metadata": {},
     "output_type": "execute_result"
    }
   ],
   "source": [
    "x=M([-3],[1],[-1])\n",
    "sig3(x)"
   ]
  },
  {
   "cell_type": "code",
   "execution_count": 297,
   "id": "f9cd96c1-578d-4acc-a59e-e7a21228b707",
   "metadata": {},
   "outputs": [
    {
     "data": {
      "text/plain": [
       "array([[0.],\n",
       "       [0.],\n",
       "       [0.]])"
      ]
     },
     "execution_count": 297,
     "metadata": {},
     "output_type": "execute_result"
    }
   ],
   "source": [
    "x=M([-9],[-5],[-4])\n",
    "sig3(x)"
   ]
  },
  {
   "cell_type": "code",
   "execution_count": 298,
   "id": "b287a755-0d1f-498e-878e-b4d23724db44",
   "metadata": {},
   "outputs": [
    {
     "data": {
      "text/plain": [
       "array([[1.],\n",
       "       [1.],\n",
       "       [1.]])"
      ]
     },
     "execution_count": 298,
     "metadata": {},
     "output_type": "execute_result"
    }
   ],
   "source": [
    "x=M([11],[7],[4])\n",
    "sig3(x)"
   ]
  },
  {
   "cell_type": "code",
   "execution_count": 300,
   "id": "21fbcad8-48b2-47f2-9f35-28678b553b38",
   "metadata": {},
   "outputs": [
    {
     "data": {
      "text/plain": [
       "array([[0.5],\n",
       "       [0.5],\n",
       "       [0. ]])"
      ]
     },
     "execution_count": 300,
     "metadata": {},
     "output_type": "execute_result"
    }
   ],
   "source": [
    "sig3(L(M([1,-1,0],[1,-2,0],[1,-3,0]), M([3],[2])))"
   ]
  },
  {
   "cell_type": "code",
   "execution_count": 301,
   "id": "3149b814-e5ee-426b-9f72-1f946a2fb69a",
   "metadata": {},
   "outputs": [
    {
     "data": {
      "text/plain": [
       "array([[1. ],\n",
       "       [1. ],\n",
       "       [0.5]])"
      ]
     },
     "execution_count": 301,
     "metadata": {},
     "output_type": "execute_result"
    }
   ],
   "source": [
    "sig3(L(M([1,-1,3],[1,-2,3],[1,-3,3]), M([3],[2])))"
   ]
  },
  {
   "cell_type": "code",
   "execution_count": 302,
   "id": "d1b5649e-81ad-445d-a600-17f185ab13b7",
   "metadata": {},
   "outputs": [
    {
     "data": {
      "text/plain": [
       "array([[0.5],\n",
       "       [0. ],\n",
       "       [0. ]])"
      ]
     },
     "execution_count": 302,
     "metadata": {},
     "output_type": "execute_result"
    }
   ],
   "source": [
    "sig3(L(M([1,-1,-2],[1,-2,-2],[1,-3,-2]), M([3],[2])))"
   ]
  },
  {
   "cell_type": "code",
   "execution_count": 305,
   "id": "7d8dc149-1bdf-49ca-9abc-9a5fbe1b6dc4",
   "metadata": {},
   "outputs": [
    {
     "data": {
      "text/plain": [
       "array([[ 1],\n",
       "       [ 0],\n",
       "       [-1]])"
      ]
     },
     "execution_count": 305,
     "metadata": {},
     "output_type": "execute_result"
    }
   ],
   "source": [
    "tanh3(M([2],[0],[-2]))"
   ]
  },
  {
   "cell_type": "code",
   "execution_count": 307,
   "id": "69575fac-fa0e-4931-9ed1-d89c5d20a3ed",
   "metadata": {},
   "outputs": [
    {
     "data": {
      "text/plain": [
       "array([[-1],\n",
       "       [-1],\n",
       "       [-1]])"
      ]
     },
     "execution_count": 307,
     "metadata": {},
     "output_type": "execute_result"
    }
   ],
   "source": [
    "tanh3(M([-9],[-5],[-4]))"
   ]
  },
  {
   "cell_type": "code",
   "execution_count": 308,
   "id": "e9a43bf5-357d-41be-9c5e-1df7f72bf517",
   "metadata": {},
   "outputs": [
    {
     "data": {
      "text/plain": [
       "array([[1],\n",
       "       [1],\n",
       "       [1]])"
      ]
     },
     "execution_count": 308,
     "metadata": {},
     "output_type": "execute_result"
    }
   ],
   "source": [
    "tanh3(M([11],[7],[4]))"
   ]
  },
  {
   "cell_type": "code",
   "execution_count": 311,
   "id": "4290577e-c543-4904-aeca-418592f0b2d3",
   "metadata": {},
   "outputs": [
    {
     "data": {
      "text/plain": [
       "array([[ 0],\n",
       "       [ 0],\n",
       "       [-1]])"
      ]
     },
     "execution_count": 311,
     "metadata": {},
     "output_type": "execute_result"
    }
   ],
   "source": [
    "tanh3(L(M([1,-1,0],[1,-2,0],[1,-3,0]), M([3],[2])))"
   ]
  },
  {
   "cell_type": "code",
   "execution_count": 312,
   "id": "60499843-56a6-4dd2-9123-295565109b3e",
   "metadata": {},
   "outputs": [
    {
     "data": {
      "text/plain": [
       "array([[1],\n",
       "       [1],\n",
       "       [0]])"
      ]
     },
     "execution_count": 312,
     "metadata": {},
     "output_type": "execute_result"
    }
   ],
   "source": [
    "tanh3(L(M([1,-1,3],[1,-2,3],[1,-3,3]), M([3],[2])))"
   ]
  },
  {
   "cell_type": "code",
   "execution_count": 313,
   "id": "c6c23f96-1a6e-4dac-acf5-81d4d3ef394e",
   "metadata": {},
   "outputs": [
    {
     "data": {
      "text/plain": [
       "array([[ 0],\n",
       "       [-1],\n",
       "       [-1]])"
      ]
     },
     "execution_count": 313,
     "metadata": {},
     "output_type": "execute_result"
    }
   ],
   "source": [
    "tanh3(L(M([1,-1,-2],[1,-2,-2],[1,-3,-2]), M([3],[2])))"
   ]
  },
  {
   "cell_type": "code",
   "execution_count": 316,
   "id": "7fcecdb0-17e1-4b6a-b6f4-d7d38d501071",
   "metadata": {},
   "outputs": [
    {
     "data": {
      "text/plain": [
       "array([[0.5],\n",
       "       [0.5],\n",
       "       [0.5]])"
      ]
     },
     "execution_count": 316,
     "metadata": {},
     "output_type": "execute_result"
    }
   ],
   "source": [
    "sig3(tanh3(M([1],[2],[-3])))"
   ]
  },
  {
   "cell_type": "code",
   "execution_count": 319,
   "id": "9c9b7e42-ba8a-4eca-ae13-b768f935e88e",
   "metadata": {},
   "outputs": [
    {
     "data": {
      "text/plain": [
       "array([[0.5],\n",
       "       [1. ],\n",
       "       [0.5]])"
      ]
     },
     "execution_count": 319,
     "metadata": {},
     "output_type": "execute_result"
    }
   ],
   "source": [
    "sig3(relu(M([1],[2],[-3])))"
   ]
  },
  {
   "cell_type": "code",
   "execution_count": 322,
   "id": "9dc9c5fd-d172-4a3b-9fd7-20c361c42ab2",
   "metadata": {},
   "outputs": [
    {
     "data": {
      "text/plain": [
       "array([[0.5, 0.7, 0.3]])"
      ]
     },
     "execution_count": 322,
     "metadata": {},
     "output_type": "execute_result"
    }
   ],
   "source": [
    "sig5(M([0,1,-1]))"
   ]
  },
  {
   "cell_type": "code",
   "execution_count": 327,
   "id": "09234360-3984-4cc1-a834-effcabfd6d41",
   "metadata": {},
   "outputs": [
    {
     "data": {
      "text/plain": [
       "array([[1. ],\n",
       "       [0.7],\n",
       "       [0.3]])"
      ]
     },
     "execution_count": 327,
     "metadata": {},
     "output_type": "execute_result"
    }
   ],
   "source": [
    "sig5(L(M([1,1,-2],[1,1,-4],[1,1,-6]), M([3],[2])))"
   ]
  },
  {
   "cell_type": "code",
   "execution_count": 329,
   "id": "b56bfd99-7e29-453a-90b8-3bb799db0efc",
   "metadata": {},
   "outputs": [
    {
     "data": {
      "text/plain": [
       "array([[ 0. ,  0.8, -0.8]])"
      ]
     },
     "execution_count": 329,
     "metadata": {},
     "output_type": "execute_result"
    }
   ],
   "source": [
    "tanh5(M([0,1,-1]))"
   ]
  },
  {
   "cell_type": "code",
   "execution_count": 331,
   "id": "7957aef4-9610-4705-afaa-b96b4642746a",
   "metadata": {},
   "outputs": [
    {
     "data": {
      "text/plain": [
       "array([[ 1. ],\n",
       "       [ 0.8],\n",
       "       [-0.8]])"
      ]
     },
     "execution_count": 331,
     "metadata": {},
     "output_type": "execute_result"
    }
   ],
   "source": [
    "tanh5(L(M([1,1,-2],[1,1,-4],[1,1,-6]), M([3],[2])))"
   ]
  },
  {
   "cell_type": "code",
   "execution_count": 333,
   "id": "8d1e2678-650b-4f57-8823-8c29f8116ff6",
   "metadata": {},
   "outputs": [
    {
     "data": {
      "text/plain": [
       "array([[1. ],\n",
       "       [1. ],\n",
       "       [1. ],\n",
       "       [0. ],\n",
       "       [0.7],\n",
       "       [0.3],\n",
       "       [0. ],\n",
       "       [0. ],\n",
       "       [0.5]])"
      ]
     },
     "execution_count": 333,
     "metadata": {},
     "output_type": "execute_result"
    }
   ],
   "source": [
    "sig5(L(M([1,0,0],[0,1,0],[1,1,0],[-1,-1,0],[1,-1,0],[-1,1,0],[-1,0,0],[0,-1,0],[0,0,0]), M([3],[2])))"
   ]
  },
  {
   "cell_type": "code",
   "execution_count": 335,
   "id": "4ec18f31-73aa-4bdb-a085-ded541ea67de",
   "metadata": {},
   "outputs": [
    {
     "data": {
      "text/plain": [
       "array([[ 1. ],\n",
       "       [ 1. ],\n",
       "       [ 1. ],\n",
       "       [-1. ],\n",
       "       [ 0.8],\n",
       "       [-0.8],\n",
       "       [-1. ],\n",
       "       [-1. ],\n",
       "       [ 0. ]])"
      ]
     },
     "execution_count": 335,
     "metadata": {},
     "output_type": "execute_result"
    }
   ],
   "source": [
    "tanh5(L(M([1,0,0],[0,1,0],[1,1,0],[-1,-1,0],[1,-1,0],[-1,1,0],[-1,0,0],[0,-1,0],[0,0,0]), M([3],[2])))"
   ]
  },
  {
   "cell_type": "code",
   "execution_count": 342,
   "id": "505576ca-f33d-42e2-affb-9e648c07ea9b",
   "metadata": {},
   "outputs": [
    {
     "data": {
      "text/plain": [
       "array([[-1]])"
      ]
     },
     "execution_count": 342,
     "metadata": {},
     "output_type": "execute_result"
    }
   ],
   "source": [
    "L(M([1,1,-5]), M([3],[1]))"
   ]
  },
  {
   "cell_type": "code",
   "execution_count": 345,
   "id": "4734532b-02e3-4f5b-9ef5-b78776165721",
   "metadata": {},
   "outputs": [
    {
     "data": {
      "text/plain": [
       "array([[2]])"
      ]
     },
     "execution_count": 345,
     "metadata": {},
     "output_type": "execute_result"
    }
   ],
   "source": [
    "relu(L(M([1,-1,0]), M([3],[1])))"
   ]
  },
  {
   "cell_type": "code",
   "execution_count": 346,
   "id": "b3533b27-9407-4d2e-bc3f-6a1ec6a30f0b",
   "metadata": {},
   "outputs": [
    {
     "name": "stdout",
     "output_type": "stream",
     "text": [
      "[[4]]\n"
     ]
    },
    {
     "data": {
      "text/plain": [
       "array([[4]])"
      ]
     },
     "execution_count": 346,
     "metadata": {},
     "output_type": "execute_result"
    }
   ],
   "source": [
    "x = L(M([2,1,1]), M([2],[-1]))\n",
    "print(x)\n",
    "relu(x)"
   ]
  },
  {
   "cell_type": "code",
   "execution_count": 347,
   "id": "f715335d-52d2-41c9-992b-5affd6a078a5",
   "metadata": {},
   "outputs": [
    {
     "name": "stdout",
     "output_type": "stream",
     "text": [
      "[[-2]]\n"
     ]
    },
    {
     "data": {
      "text/plain": [
       "array([[0]])"
      ]
     },
     "execution_count": 347,
     "metadata": {},
     "output_type": "execute_result"
    }
   ],
   "source": [
    "x = L(M([2,1,-5]), M([2],[-1]))\n",
    "print(x)\n",
    "relu(x)"
   ]
  },
  {
   "cell_type": "code",
   "execution_count": 348,
   "id": "a4ab7ba0-8fa6-41e9-8d5d-3872e314b7db",
   "metadata": {},
   "outputs": [
    {
     "data": {
      "text/plain": [
       "array([[0.5]])"
      ]
     },
     "execution_count": 348,
     "metadata": {},
     "output_type": "execute_result"
    }
   ],
   "source": [
    "sig3(L(M([1,-1,-1]), M([4],[2])))"
   ]
  },
  {
   "cell_type": "code",
   "execution_count": 350,
   "id": "9814beac-f3fc-4521-b838-dec7d469e001",
   "metadata": {},
   "outputs": [
    {
     "data": {
      "text/plain": [
       "array([[1.]])"
      ]
     },
     "execution_count": 350,
     "metadata": {},
     "output_type": "execute_result"
    }
   ],
   "source": [
    "sig3(L(M([2,-1,0]), M([3],[4])))"
   ]
  },
  {
   "cell_type": "code",
   "execution_count": 352,
   "id": "253ad3cb-02f4-4267-93b5-163be40049c6",
   "metadata": {},
   "outputs": [
    {
     "name": "stdout",
     "output_type": "stream",
     "text": [
      "[[1]]\n"
     ]
    },
    {
     "data": {
      "text/plain": [
       "array([[1]])"
      ]
     },
     "execution_count": 352,
     "metadata": {},
     "output_type": "execute_result"
    }
   ],
   "source": [
    "x = L(M([1,0,1,-2]), M([2],[5],[1]))\n",
    "print(x)\n",
    "relu(x)"
   ]
  },
  {
   "cell_type": "code",
   "execution_count": 354,
   "id": "64501aec-e9aa-48e3-a9df-d91e17d3117d",
   "metadata": {},
   "outputs": [
    {
     "name": "stdout",
     "output_type": "stream",
     "text": [
      "[[-1]]\n"
     ]
    },
    {
     "data": {
      "text/plain": [
       "array([[0]])"
      ]
     },
     "execution_count": 354,
     "metadata": {},
     "output_type": "execute_result"
    }
   ],
   "source": [
    "x = L(M([1,-1,0,2]), M([2],[5],[1]))\n",
    "print(x)\n",
    "relu(x)"
   ]
  },
  {
   "cell_type": "code",
   "execution_count": 355,
   "id": "1a139a3a-44ad-4192-a9c5-0f57f0d416c3",
   "metadata": {},
   "outputs": [
    {
     "name": "stdout",
     "output_type": "stream",
     "text": [
      "[[-1]]\n"
     ]
    },
    {
     "data": {
      "text/plain": [
       "array([[0.5]])"
      ]
     },
     "execution_count": 355,
     "metadata": {},
     "output_type": "execute_result"
    }
   ],
   "source": [
    "x = L(M([1,-1,0,2]), M([2],[5],[1]))\n",
    "print(x)\n",
    "sig3(x)"
   ]
  },
  {
   "cell_type": "code",
   "execution_count": 358,
   "id": "b4a26cae-718e-43c9-b719-3c5a9740d7ad",
   "metadata": {},
   "outputs": [
    {
     "name": "stdout",
     "output_type": "stream",
     "text": [
      "[[5]\n",
      " [4]\n",
      " [3]]\n"
     ]
    },
    {
     "data": {
      "text/plain": [
       "array([[5],\n",
       "       [4],\n",
       "       [3]])"
      ]
     },
     "execution_count": 358,
     "metadata": {},
     "output_type": "execute_result"
    }
   ],
   "source": [
    "x = L(M([0,1,-1],[1,0,0],[1,0,-1]), M([4],[6]))\n",
    "print(x)\n",
    "relu(x)"
   ]
  },
  {
   "cell_type": "code",
   "execution_count": 359,
   "id": "b782e247-2cee-476b-87dd-d1ee67a4460f",
   "metadata": {},
   "outputs": [
    {
     "name": "stdout",
     "output_type": "stream",
     "text": [
      "[[ 5]\n",
      " [ 1]\n",
      " [-4]]\n"
     ]
    },
    {
     "data": {
      "text/plain": [
       "array([[5],\n",
       "       [1],\n",
       "       [0]])"
      ]
     },
     "execution_count": 359,
     "metadata": {},
     "output_type": "execute_result"
    }
   ],
   "source": [
    "x = L(M([1,1,-2],[1,-1,-2],[0,-1,-2]), M([5],[2]))\n",
    "print(x)\n",
    "relu(x)"
   ]
  },
  {
   "cell_type": "code",
   "execution_count": 361,
   "id": "b6bfd332-492a-4916-83f5-e58d6021c1ac",
   "metadata": {},
   "outputs": [
    {
     "name": "stdout",
     "output_type": "stream",
     "text": [
      "[[ 1]\n",
      " [-1]\n",
      " [-3]]\n"
     ]
    },
    {
     "data": {
      "text/plain": [
       "array([[1],\n",
       "       [0],\n",
       "       [0]])"
      ]
     },
     "execution_count": 361,
     "metadata": {},
     "output_type": "execute_result"
    }
   ],
   "source": [
    "x = L(M([1,-1,0],[1,-2,0],[1,-3,0]), M([3],[2]))\n",
    "print(x)\n",
    "relu(x)"
   ]
  },
  {
   "cell_type": "code",
   "execution_count": 362,
   "id": "508dd036-383c-4d03-8572-c55374483c38",
   "metadata": {},
   "outputs": [
    {
     "name": "stdout",
     "output_type": "stream",
     "text": [
      "[[6]\n",
      " [4]\n",
      " [3]]\n"
     ]
    },
    {
     "data": {
      "text/plain": [
       "array([[6],\n",
       "       [4],\n",
       "       [3]])"
      ]
     },
     "execution_count": 362,
     "metadata": {},
     "output_type": "execute_result"
    }
   ],
   "source": [
    "x = L(M([1,1,1,0],[1,1,0,0],[1,0,0,0]), M([3],[1],[2]))\n",
    "print(x)\n",
    "relu(x)"
   ]
  },
  {
   "cell_type": "code",
   "execution_count": 363,
   "id": "9ce4c6ad-2786-40b9-9f00-8219cb1e6d5d",
   "metadata": {},
   "outputs": [
    {
     "name": "stdout",
     "output_type": "stream",
     "text": [
      "[[ 5]\n",
      " [-2]\n",
      " [-1]]\n"
     ]
    },
    {
     "data": {
      "text/plain": [
       "array([[5],\n",
       "       [0],\n",
       "       [0]])"
      ]
     },
     "execution_count": 363,
     "metadata": {},
     "output_type": "execute_result"
    }
   ],
   "source": [
    "x = L(M([1,1,0,0],[1,0,-1,0],[1,-1,0,0]), M([2],[3],[4]))\n",
    "print(x)\n",
    "relu(x)"
   ]
  },
  {
   "cell_type": "code",
   "execution_count": 365,
   "id": "ab37854b-6a05-4e37-b360-59be547a70e2",
   "metadata": {},
   "outputs": [
    {
     "name": "stdout",
     "output_type": "stream",
     "text": [
      "[[-1]\n",
      " [ 8]\n",
      " [ 3]]\n"
     ]
    },
    {
     "data": {
      "text/plain": [
       "array([[0],\n",
       "       [8],\n",
       "       [3]])"
      ]
     },
     "execution_count": 365,
     "metadata": {},
     "output_type": "execute_result"
    }
   ],
   "source": [
    "x = L(M([0,1,0,-3],[1,0,-1,0],[1,-1,0,0]), M([5],[2],[-3]))\n",
    "print(x)\n",
    "relu(x)"
   ]
  },
  {
   "cell_type": "code",
   "execution_count": 368,
   "id": "812daf3f-0fca-4bde-af8d-c5aac0c4da8e",
   "metadata": {},
   "outputs": [
    {
     "data": {
      "text/plain": [
       "array([[5]])"
      ]
     },
     "execution_count": 368,
     "metadata": {},
     "output_type": "execute_result"
    }
   ],
   "source": [
    "relu(L(M([1,1,0]), M([3],[2])))"
   ]
  },
  {
   "cell_type": "code",
   "execution_count": 371,
   "id": "6707fe5f-920c-4128-bc17-48acef95cfe0",
   "metadata": {},
   "outputs": [
    {
     "data": {
      "text/plain": [
       "array([[0]])"
      ]
     },
     "execution_count": 371,
     "metadata": {},
     "output_type": "execute_result"
    }
   ],
   "source": [
    "relu(L(M([1,-1,0]), M([4],[5])))"
   ]
  },
  {
   "cell_type": "code",
   "execution_count": 373,
   "id": "eafb3f5f-dcbd-4b10-83af-3dcc9729b509",
   "metadata": {},
   "outputs": [
    {
     "data": {
      "text/plain": [
       "array([[2]])"
      ]
     },
     "execution_count": 373,
     "metadata": {},
     "output_type": "execute_result"
    }
   ],
   "source": [
    "relu(L(M([-1,1,0]), M([3],[5])))"
   ]
  },
  {
   "cell_type": "code",
   "execution_count": 374,
   "id": "677621bc-bf91-4bd0-b79b-040ec8cb4975",
   "metadata": {},
   "outputs": [
    {
     "data": {
      "text/plain": [
       "array([[0]])"
      ]
     },
     "execution_count": 374,
     "metadata": {},
     "output_type": "execute_result"
    }
   ],
   "source": [
    "relu(L(M([1,-2,0]), M([3],[2])))"
   ]
  },
  {
   "cell_type": "code",
   "execution_count": 375,
   "id": "95a1e92d-6f63-4e30-98a8-aa52b6840a89",
   "metadata": {},
   "outputs": [
    {
     "data": {
      "text/plain": [
       "array([[0]])"
      ]
     },
     "execution_count": 375,
     "metadata": {},
     "output_type": "execute_result"
    }
   ],
   "source": [
    "relu(L(M([1,-1,-2]), M([3],[2])))"
   ]
  },
  {
   "cell_type": "code",
   "execution_count": 380,
   "id": "b127521a-9164-478b-a43d-5370f51bbf73",
   "metadata": {},
   "outputs": [
    {
     "data": {
      "text/plain": [
       "array([[1]])"
      ]
     },
     "execution_count": 380,
     "metadata": {},
     "output_type": "execute_result"
    }
   ],
   "source": [
    "relu(L(M([1,1,1,0]), M([-4],[2],[3])))"
   ]
  },
  {
   "cell_type": "code",
   "execution_count": 381,
   "id": "6c960c32-cb56-4c16-bf75-142a75d68536",
   "metadata": {},
   "outputs": [
    {
     "data": {
      "text/plain": [
       "array([[0]])"
      ]
     },
     "execution_count": 381,
     "metadata": {},
     "output_type": "execute_result"
    }
   ],
   "source": [
    "relu(L(M([1,-1,1,0]), M([2],[3],[1])))"
   ]
  },
  {
   "cell_type": "code",
   "execution_count": 382,
   "id": "5644f63b-f218-481e-868b-6d16401164ae",
   "metadata": {},
   "outputs": [
    {
     "data": {
      "text/plain": [
       "array([[0]])"
      ]
     },
     "execution_count": 382,
     "metadata": {},
     "output_type": "execute_result"
    }
   ],
   "source": [
    "relu(L(M([1,1,-2,0]), M([4],[1],[3])))"
   ]
  },
  {
   "cell_type": "code",
   "execution_count": 384,
   "id": "f3f76669-8655-4786-acdf-455dc7c8dcd3",
   "metadata": {},
   "outputs": [
    {
     "data": {
      "text/plain": [
       "array([[0],\n",
       "       [0],\n",
       "       [2]])"
      ]
     },
     "execution_count": 384,
     "metadata": {},
     "output_type": "execute_result"
    }
   ],
   "source": [
    "relu(L(M([1,-1,0,0],[1,0,-1,0],[1,0,0,0]), M([2],[4],[3])))"
   ]
  },
  {
   "cell_type": "code",
   "execution_count": 385,
   "id": "63c62e27-fa9e-48d0-a0cd-7c7664f41d15",
   "metadata": {},
   "outputs": [
    {
     "data": {
      "text/plain": [
       "array([[0. ],\n",
       "       [0.5],\n",
       "       [1. ]])"
      ]
     },
     "execution_count": 385,
     "metadata": {},
     "output_type": "execute_result"
    }
   ],
   "source": [
    "sig3(L(M([1,-1,0,0],[1,0,-1,0],[1,0,0,0]), M([2],[4],[3])))"
   ]
  },
  {
   "cell_type": "markdown",
   "id": "55ee75c6-c50a-4a66-b3b5-e8a0d21f365e",
   "metadata": {},
   "source": [
    "https://aibyhand.substack.com/p/w6-batch"
   ]
  },
  {
   "cell_type": "code",
   "execution_count": 386,
   "id": "b54eb154-3d31-47f1-8c34-50aa6be6d108",
   "metadata": {},
   "outputs": [
    {
     "data": {
      "text/plain": [
       "3.0"
      ]
     },
     "execution_count": 386,
     "metadata": {},
     "output_type": "execute_result"
    }
   ],
   "source": [
    "(2+2+2+6)/4"
   ]
  },
  {
   "cell_type": "code",
   "execution_count": 388,
   "id": "a0e172a3-b68a-4846-852f-8663a3459c61",
   "metadata": {},
   "outputs": [
    {
     "data": {
      "text/plain": [
       "0.7"
      ]
     },
     "execution_count": 388,
     "metadata": {},
     "output_type": "execute_result"
    }
   ],
   "source": [
    "(1+1+1+1+1+1+1)/10"
   ]
  },
  {
   "cell_type": "code",
   "execution_count": 390,
   "id": "77c19af8-95d8-4ba1-a642-a486160ee774",
   "metadata": {},
   "outputs": [
    {
     "data": {
      "text/plain": [
       "0.8"
      ]
     },
     "execution_count": 390,
     "metadata": {},
     "output_type": "execute_result"
    }
   ],
   "source": [
    "np.mean([1,1,0,1,1,1,1,1,0,1])"
   ]
  },
  {
   "cell_type": "code",
   "execution_count": 402,
   "id": "338fb6a0-6a11-4f83-bf75-c555b8684af5",
   "metadata": {},
   "outputs": [],
   "source": [
    "def cen0(x):\n",
    "    mean = np.mean(x)\n",
    "    return x-mean"
   ]
  },
  {
   "cell_type": "code",
   "execution_count": 403,
   "id": "f471de36-e704-466e-b020-a02df82b44fd",
   "metadata": {},
   "outputs": [
    {
     "name": "stdout",
     "output_type": "stream",
     "text": [
      "[-1.  1.  1. -1.]\n"
     ]
    }
   ],
   "source": [
    "mu = np.mean([-1,1,1,-1])\n",
    "print([-1,1,1,-1]-mu)"
   ]
  },
  {
   "cell_type": "code",
   "execution_count": 404,
   "id": "882fca7d-f80f-466a-bac2-29a9017e1388",
   "metadata": {},
   "outputs": [
    {
     "name": "stdout",
     "output_type": "stream",
     "text": [
      "[ 0.  2. -2.  0.]\n"
     ]
    }
   ],
   "source": [
    "mu = np.mean([-2,0,-4,-2])\n",
    "print([-2,0,-4,-2]-mu)"
   ]
  },
  {
   "cell_type": "code",
   "execution_count": 405,
   "id": "66613d7c-73c3-4522-9a7c-a7d6b6e5a35c",
   "metadata": {},
   "outputs": [
    {
     "data": {
      "text/plain": [
       "array([ 0.,  3.,  0., -3.])"
      ]
     },
     "execution_count": 405,
     "metadata": {},
     "output_type": "execute_result"
    }
   ],
   "source": [
    "cen0([3,6,3,0])"
   ]
  },
  {
   "cell_type": "code",
   "execution_count": 406,
   "id": "66ff4856-eb8d-4f59-8707-4fbf2ff6e3f0",
   "metadata": {},
   "outputs": [
    {
     "data": {
      "text/plain": [
       "array([ 0.,  3., -2., -1.])"
      ]
     },
     "execution_count": 406,
     "metadata": {},
     "output_type": "execute_result"
    }
   ],
   "source": [
    "cen0([1,4,-1,0])"
   ]
  },
  {
   "cell_type": "code",
   "execution_count": 412,
   "id": "dc647450-ec4a-4efe-be90-dc938e792051",
   "metadata": {},
   "outputs": [
    {
     "data": {
      "text/plain": [
       "array([[4],\n",
       "       [3],\n",
       "       [3]])"
      ]
     },
     "execution_count": 412,
     "metadata": {},
     "output_type": "execute_result"
    }
   ],
   "source": [
    "L(M([1,1,0,1,0,0,0,0],[1,-1,0,0,0,0,2,0],[-1,0,1,0,1,-1,0,1]), M([2],[1],[3],[1],[2],[1],[1]))"
   ]
  },
  {
   "cell_type": "code",
   "execution_count": 417,
   "id": "80741580-3ccb-4772-9067-dd68069019f1",
   "metadata": {},
   "outputs": [
    {
     "data": {
      "text/plain": [
       "array([[4],\n",
       "       [2],\n",
       "       [3]])"
      ]
     },
     "execution_count": 417,
     "metadata": {},
     "output_type": "execute_result"
    }
   ],
   "source": [
    "L(M([1,1,0,1,0,0,0,0,0],[1,-1,0,0,0,0,2,-1,0],[-1,0,1,0,1,-1,0,0,1]), M([2],[1],[3],[1],[2],[1],[1],[1]))"
   ]
  },
  {
   "cell_type": "code",
   "execution_count": 426,
   "id": "3acacbed-e357-44fc-a91c-01cf9aeeb323",
   "metadata": {},
   "outputs": [
    {
     "data": {
      "text/plain": [
       "0.1"
      ]
     },
     "execution_count": 426,
     "metadata": {},
     "output_type": "execute_result"
    }
   ],
   "source": [
    "e = 3\n",
    "e**1/30"
   ]
  },
  {
   "cell_type": "markdown",
   "id": "bb33da5d-e155-4310-9ccd-9b4a6322688b",
   "metadata": {},
   "source": [
    "https://aibyhand.substack.com/p/w11-softmax"
   ]
  },
  {
   "cell_type": "code",
   "execution_count": 434,
   "id": "c2bab86a-6941-4bbb-89e2-97ee62b4a1c0",
   "metadata": {},
   "outputs": [],
   "source": [
    "def sm(x):\n",
    "    e = 3 # 2.71828\n",
    "    x = np.power(e, x)\n",
    "    return x/np.sum(x)"
   ]
  },
  {
   "cell_type": "code",
   "execution_count": 445,
   "id": "3a969ba8-6f70-410c-b9b5-165952d80956",
   "metadata": {},
   "outputs": [
    {
     "data": {
      "text/plain": [
       "array([0.52743772, 0.47256228])"
      ]
     },
     "execution_count": 445,
     "metadata": {},
     "output_type": "execute_result"
    }
   ],
   "source": [
    "sm([6,5.9])"
   ]
  },
  {
   "cell_type": "code",
   "execution_count": 448,
   "id": "7ccf7125-d34e-43b2-8473-6b09187bc027",
   "metadata": {},
   "outputs": [
    {
     "data": {
      "text/plain": [
       "array([[0.9],\n",
       "       [0.1]])"
      ]
     },
     "execution_count": 448,
     "metadata": {},
     "output_type": "execute_result"
    }
   ],
   "source": [
    "# ex1\n",
    "sm(L(M([1,1,-1],[1,-1,-1]), M([2],[1])))"
   ]
  },
  {
   "cell_type": "code",
   "execution_count": 449,
   "id": "e6d25506-5db0-4bdd-ab4c-5b3d06a4264a",
   "metadata": {},
   "outputs": [
    {
     "data": {
      "text/plain": [
       "array([[0.9],\n",
       "       [0.1]])"
      ]
     },
     "execution_count": 449,
     "metadata": {},
     "output_type": "execute_result"
    }
   ],
   "source": [
    "# ex2\n",
    "sm(L(M([1,1,0],[1,-1,0]), M([2],[1])))"
   ]
  },
  {
   "cell_type": "code",
   "execution_count": 450,
   "id": "416f51c5-5ea5-4cf9-9790-61b0da8eb994",
   "metadata": {},
   "outputs": [
    {
     "data": {
      "text/plain": [
       "array([[0.9],\n",
       "       [0.1]])"
      ]
     },
     "execution_count": 450,
     "metadata": {},
     "output_type": "execute_result"
    }
   ],
   "source": [
    "# ex3\n",
    "sm(L(M([1,1,1],[1,-1,1]), M([2],[1])))"
   ]
  },
  {
   "cell_type": "code",
   "execution_count": 451,
   "id": "fbc392ec-a959-498f-9593-4c39121f4464",
   "metadata": {},
   "outputs": [
    {
     "data": {
      "text/plain": [
       "array([[0.9],\n",
       "       [0.1]])"
      ]
     },
     "execution_count": 451,
     "metadata": {},
     "output_type": "execute_result"
    }
   ],
   "source": [
    "sm(L(M([1,1,2],[1,-1,2]), M([2],[1])))"
   ]
  },
  {
   "cell_type": "code",
   "execution_count": 452,
   "id": "088f0498-9c32-4ddb-b9de-0e25bf810e04",
   "metadata": {},
   "outputs": [
    {
     "data": {
      "text/plain": [
       "array([[0.9],\n",
       "       [0.1]])"
      ]
     },
     "execution_count": 452,
     "metadata": {},
     "output_type": "execute_result"
    }
   ],
   "source": [
    "sm(L(M([1,1,3],[1,-1,3]), M([2],[1])))"
   ]
  },
  {
   "cell_type": "code",
   "execution_count": 453,
   "id": "549a36f1-f2e8-4cae-a88a-8d83ca4f7fb9",
   "metadata": {},
   "outputs": [
    {
     "data": {
      "text/plain": [
       "array([[0.5],\n",
       "       [0.5]])"
      ]
     },
     "execution_count": 453,
     "metadata": {},
     "output_type": "execute_result"
    }
   ],
   "source": [
    "sm(L(M([1,1,3],[1,-1,5]), M([2],[1])))"
   ]
  },
  {
   "cell_type": "code",
   "execution_count": 454,
   "id": "7dc68bf9-60fb-4ec8-94fb-f3198d40fcbf",
   "metadata": {},
   "outputs": [
    {
     "data": {
      "text/plain": [
       "array([[0.5],\n",
       "       [0.5]])"
      ]
     },
     "execution_count": 454,
     "metadata": {},
     "output_type": "execute_result"
    }
   ],
   "source": [
    "sm(L(M([1,1,2],[1,-1,4]), M([2],[1])))"
   ]
  },
  {
   "cell_type": "code",
   "execution_count": 455,
   "id": "9fbf3e3a-53a3-4fe5-a3dc-f490c5755e8f",
   "metadata": {},
   "outputs": [
    {
     "data": {
      "text/plain": [
       "array([[0.5],\n",
       "       [0.5]])"
      ]
     },
     "execution_count": 455,
     "metadata": {},
     "output_type": "execute_result"
    }
   ],
   "source": [
    "sm(L(M([1,1,0],[1,-1,2]), M([2],[1])))"
   ]
  },
  {
   "cell_type": "code",
   "execution_count": 456,
   "id": "ebc4ee3c-475f-4804-8561-f2ee831f176d",
   "metadata": {},
   "outputs": [
    {
     "data": {
      "text/plain": [
       "array([[0.75],\n",
       "       [0.25]])"
      ]
     },
     "execution_count": 456,
     "metadata": {},
     "output_type": "execute_result"
    }
   ],
   "source": [
    "sm(L(M([1,1,0],[1,-1,1]), M([2],[1])))"
   ]
  },
  {
   "cell_type": "code",
   "execution_count": 460,
   "id": "d17fae14-f360-4751-9541-a520d7f3ab0f",
   "metadata": {},
   "outputs": [
    {
     "data": {
      "text/plain": [
       "array([[0.45],\n",
       "       [0.05],\n",
       "       [0.05],\n",
       "       [0.45]])"
      ]
     },
     "execution_count": 460,
     "metadata": {},
     "output_type": "execute_result"
    }
   ],
   "source": [
    "sm(L(M([1,1,-1],[1,-1,-1],[1,0,-2],[0,1,1]), M([2],[1])))"
   ]
  },
  {
   "cell_type": "code",
   "execution_count": 461,
   "id": "6ffb8044-0845-4f24-a4b7-b8cd336460db",
   "metadata": {},
   "outputs": [
    {
     "data": {
      "text/plain": [
       "array([[0.09],\n",
       "       [0.81],\n",
       "       [0.09],\n",
       "       [0.01]])"
      ]
     },
     "execution_count": 461,
     "metadata": {},
     "output_type": "execute_result"
    }
   ],
   "source": [
    "sm(L(M([1,1,-1],[1,-1,3],[1,0,0],[0,1,-1]), M([2],[1])))"
   ]
  },
  {
   "cell_type": "code",
   "execution_count": 462,
   "id": "dc976aff-7404-4cee-9511-9327590e4b01",
   "metadata": {},
   "outputs": [
    {
     "data": {
      "text/plain": [
       "array([[0.02],\n",
       "       [0.06],\n",
       "       [0.18],\n",
       "       [0.54],\n",
       "       [0.02],\n",
       "       [0.18]])"
      ]
     },
     "execution_count": 462,
     "metadata": {},
     "output_type": "execute_result"
    }
   ],
   "source": [
    "sm(L(M([1,1,-3],[1,-1,0],[1,0,0],[0,1,2],[1,2,-4],[2,1,-3]), M([2],[1])))"
   ]
  },
  {
   "cell_type": "code",
   "execution_count": 485,
   "id": "a41f62e6-51e9-4fe3-b032-fc1e241f1715",
   "metadata": {},
   "outputs": [
    {
     "data": {
      "text/plain": [
       "array([[0, 1, 2],\n",
       "       [3, 4, 5]])"
      ]
     },
     "execution_count": 485,
     "metadata": {},
     "output_type": "execute_result"
    }
   ],
   "source": [
    "M([0,1,2],[3,4,5])"
   ]
  }
 ],
 "metadata": {
  "kernelspec": {
   "display_name": "crash-knowledge-graph",
   "language": "python",
   "name": "crash-knowledge-graph"
  },
  "language_info": {
   "codemirror_mode": {
    "name": "ipython",
    "version": 3
   },
   "file_extension": ".py",
   "mimetype": "text/x-python",
   "name": "python",
   "nbconvert_exporter": "python",
   "pygments_lexer": "ipython3",
   "version": "3.11.7"
  }
 },
 "nbformat": 4,
 "nbformat_minor": 5
}
