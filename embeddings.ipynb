{
 "cells": [
  {
   "cell_type": "code",
   "execution_count": 1,
   "id": "5277301e-6cfe-4c74-995b-6d94b4628b1f",
   "metadata": {},
   "outputs": [
    {
     "name": "stderr",
     "output_type": "stream",
     "text": [
      "/Users/adam/Documents/physics/venv/lib/python3.11/site-packages/sentence_transformers/cross_encoder/CrossEncoder.py:11: TqdmExperimentalWarning: Using `tqdm.autonotebook.tqdm` in notebook mode. Use `tqdm.tqdm` instead to force console mode (e.g. in jupyter console)\n",
      "  from tqdm.autonotebook import tqdm, trange\n"
     ]
    }
   ],
   "source": [
    "import requests\n",
    "import numpy as np\n",
    "import pandas as pd\n",
    "from nomic import embed\n",
    "from io import StringIO\n",
    "import torch.nn.functional as F\n",
    "from sentence_transformers import SentenceTransformer"
   ]
  },
  {
   "cell_type": "code",
   "execution_count": 2,
   "id": "adadad93-aa39-4da7-8b4c-eb7fabe8b4f0",
   "metadata": {},
   "outputs": [],
   "source": [
    "# get sentences to embed\n",
    "res = requests.get('https://raw.githubusercontent.com/brmson/dataset-sts/master/data/sts/sick2014/SICK_train.txt')\n",
    "data = pd.read_csv(StringIO(res.text), sep='\\t')\n",
    "sentences = data['sentence_A'].tolist()\n",
    "s_B = data['sentence_B'].tolist()\n",
    "sentences.extend(s_B)\n",
    "urls = [\n",
    "    'https://raw.githubusercontent.com/brmson/dataset-sts/master/data/sts/semeval-sts/2012/MSRpar.train.tsv',\n",
    "    'https://raw.githubusercontent.com/brmson/dataset-sts/master/data/sts/semeval-sts/2012/MSRpar.test.tsv',\n",
    "    'https://raw.githubusercontent.com/brmson/dataset-sts/master/data/sts/semeval-sts/2012/OnWN.test.tsv',\n",
    "    'https://raw.githubusercontent.com/brmson/dataset-sts/master/data/sts/semeval-sts/2013/OnWN.test.tsv',\n",
    "    'https://raw.githubusercontent.com/brmson/dataset-sts/master/data/sts/semeval-sts/2014/OnWN.test.tsv',\n",
    "    'https://raw.githubusercontent.com/brmson/dataset-sts/master/data/sts/semeval-sts/2014/images.test.tsv',\n",
    "    'https://raw.githubusercontent.com/brmson/dataset-sts/master/data/sts/semeval-sts/2015/images.test.tsv'\n",
    "]\n",
    "\n",
    "for url in urls:\n",
    "    res = requests.get(url)\n",
    "    # extract to dataframe\n",
    "    data = pd.read_csv(StringIO(res.text), sep='\\t', header=None, on_bad_lines='skip')\n",
    "    # add to columns 1 and 2 to sentences list\n",
    "    sentences.extend(data[1].tolist())\n",
    "    sentences.extend(data[2].tolist())\n",
    "# remove duplicates and NaN\n",
    "sentences = [word for word in list(set(sentences)) if type(word) is str]"
   ]
  },
  {
   "cell_type": "code",
   "execution_count": 3,
   "id": "fea5e476-5d28-48d4-b39d-b737b094de38",
   "metadata": {},
   "outputs": [
    {
     "name": "stderr",
     "output_type": "stream",
     "text": [
      "<All keys matched successfully>\n"
     ]
    },
    {
     "name": "stdout",
     "output_type": "stream",
     "text": [
      "tensor([[ 0.0151, -0.0018, -0.1929,  ...,  0.0677, -0.0241, -0.0785],\n",
      "        [ 0.0769,  0.0335, -0.1990,  ...,  0.0183, -0.0697, -0.0217],\n",
      "        [ 0.0484,  0.0420, -0.1929,  ..., -0.0279, -0.0099, -0.0255],\n",
      "        ...,\n",
      "        [ 0.0265,  0.0476, -0.2320,  ...,  0.0142, -0.0158,  0.0025],\n",
      "        [-0.0165,  0.0853, -0.2448,  ..., -0.0296,  0.0234, -0.0337],\n",
      "        [ 0.0349,  0.1102, -0.1354,  ...,  0.0139,  0.0238, -0.0248]],\n",
      "       device='mps:0')\n"
     ]
    }
   ],
   "source": [
    "matryoshka_dim = 512\n",
    "\n",
    "model = SentenceTransformer(\"nomic-ai/nomic-embed-text-v1.5\", trust_remote_code=True)\n",
    "embeddings = model.encode(sentences, convert_to_tensor=True)\n",
    "embeddings = F.layer_norm(embeddings, normalized_shape=(embeddings.shape[1],))\n",
    "embeddings = embeddings[:, :matryoshka_dim]\n",
    "embeddings = F.normalize(embeddings, p=2, dim=1)\n",
    "print(embeddings)"
   ]
  },
  {
   "cell_type": "code",
   "execution_count": 4,
   "id": "0fa0e865-6e98-4f78-a957-49c718e81548",
   "metadata": {},
   "outputs": [
    {
     "data": {
      "text/plain": [
       "torch.Size([14504, 512])"
      ]
     },
     "execution_count": 4,
     "metadata": {},
     "output_type": "execute_result"
    }
   ],
   "source": [
    "embeddings.shape"
   ]
  },
  {
   "cell_type": "code",
   "execution_count": 5,
   "id": "baf052b0-3f20-499d-b2d9-a509b6e44c05",
   "metadata": {},
   "outputs": [
    {
     "data": {
      "text/plain": [
       "tensor([ 0.0151, -0.0018, -0.1929,  0.0800,  0.0008, -0.0029, -0.0320,  0.0174,\n",
       "         0.0045,  0.0313], device='mps:0')"
      ]
     },
     "execution_count": 5,
     "metadata": {},
     "output_type": "execute_result"
    }
   ],
   "source": [
    "embeddings[0][:10]"
   ]
  },
  {
   "cell_type": "code",
   "execution_count": 18,
   "id": "bc33275c-007a-498b-87fb-b1801fd70171",
   "metadata": {
    "scrolled": true
   },
   "outputs": [],
   "source": [
    "from typing import Any\n",
    "from typing import List\n",
    "from typing import Optional\n",
    "from sqlalchemy import text\n",
    "from sqlalchemy import Index\n",
    "from sqlalchemy import Column\n",
    "from sqlalchemy import String\n",
    "from sqlalchemy import Integer\n",
    "from sqlalchemy import ForeignKey\n",
    "from sqlalchemy.orm import Mapped\n",
    "from sqlalchemy.orm import Session\n",
    "from sqlalchemy import create_engine\n",
    "from sqlalchemy.orm import relationship\n",
    "from sqlalchemy.orm import mapped_column\n",
    "from sqlalchemy.orm import DeclarativeBase\n",
    "from sqlalchemy_utils import database_exists, create_database\n",
    "from pgvector.sqlalchemy import Vector\n",
    "import numpy\n",
    "\n",
    "# constants\n",
    "DBAPI = \"psycopg2\"\n",
    "\n",
    "class Base(DeclarativeBase):\n",
    "    idx = mapped_column(Integer, primary_key=True)\n",
    "    # pass\n",
    "\n",
    "class Embedding(Base):\n",
    "    __tablename__ = \"embedding\"\n",
    "    vector = mapped_column(Vector(512))\n",
    "\n",
    "class Sentence(Base):\n",
    "    __tablename__ = \"sentence\"\n",
    "    sentence = mapped_column(String)\n",
    "\n",
    "pgvector_url = f\"postgresql+{DBAPI}://postgres:password@0.0.0.0:5432/\"\n",
    "\n",
    "engine = create_engine(pgvector_url, echo=False)\n",
    "with engine.connect() as conn:\n",
    "    conn.execute(text('CREATE EXTENSION IF NOT EXISTS vector'))\n",
    "    conn.commit()\n",
    "\n",
    "Base.metadata.drop_all(engine)\n",
    "Base.metadata.create_all(engine)"
   ]
  },
  {
   "cell_type": "code",
   "execution_count": 20,
   "id": "a3f824c4-afb3-4dc7-8dea-4777f1ffff75",
   "metadata": {
    "scrolled": true
   },
   "outputs": [],
   "source": [
    "with Session(engine) as session:\n",
    "    \n",
    "    counter = 0\n",
    "    for vector in embeddings:\n",
    "\n",
    "        embedding = Embedding(\n",
    "            idx=counter,\n",
    "            vector=vector.cpu().detach().numpy())\n",
    "        sentence = Sentence(\n",
    "            idx=counter,\n",
    "            sentence=sentences[counter])\n",
    "\n",
    "        session.add(embedding)\n",
    "        session.add(sentence)\n",
    "        session.commit()\n",
    "        counter+=1"
   ]
  },
  {
   "cell_type": "code",
   "execution_count": 21,
   "id": "c31a44a7-c4d6-4c66-94c0-4e411eae7f29",
   "metadata": {},
   "outputs": [
    {
     "name": "stdout",
     "output_type": "stream",
     "text": [
      "[(10000, '[-0.042250562,0.013554859,-0.2248957,-0.072864436,0.024702221,0.07813704,-0.036870662,-0.06482345,-0.06289808,-0.037916675,-0.031647258,0.02446297,-0 ... (6007 characters truncated) ... 0.038954,0.032870747,-0.02065682,-0.0016474384,0.055520337,-0.010037745,-0.04831924,-0.07428066,-0.00042063626,0.06300488,-0.085648544,-0.0082111275]')]\n",
      "[(10000, 'An older dog and a younger one playing with a toy.')]\n"
     ]
    }
   ],
   "source": [
    "index = 10000\n",
    "with Session(engine) as session:\n",
    "    embedding = session.execute(text(f\"SELECT * from embedding WHERE idx={index}\"))\n",
    "    sentence = session.execute(text(f\"SELECT * from sentence WHERE idx={index}\"))\n",
    "print(embedding.fetchall())\n",
    "print(sentence.fetchall())"
   ]
  },
  {
   "cell_type": "code",
   "execution_count": 23,
   "id": "17456806-1753-4ebb-8cbb-7df8157f01c4",
   "metadata": {},
   "outputs": [],
   "source": [
    "# create an index\n",
    "# by default, pgvector uses exact nearest neighbor search\n",
    "# which provides perfect recall\n",
    "from sqlalchemy import Index\n",
    "\n",
    "# from pgvector-python\n",
    "# an HNSW is an approximate nearest neighbor search\n",
    "# so you trade some recall accuracy for in return for speed\n",
    "INDEX = 'hnsw' # heirarchical navigable small world\n",
    "HNSW_m = 16 # max number of connections per layer (default 16)\n",
    "HNSW_efc = 64 # the size of the dynamic candidate list for graph construction\n",
    "# a higher efc provides better recall in exchange for build time / insert speed\n",
    "\n",
    "# other option: ivfflat = inverted flat file\n",
    "# note if using ivfflat, postgresql_with={'lists':n}\n",
    "# the hnsw has better query performance than an ivfflat\n",
    "# but has longer build times and higher resource demand\n",
    "\n",
    "VECTOR_OPS = 'vector_l2_ops' # l2 norm / euclidean distance\n",
    "# see numpy.linalg.norm\n",
    "\n",
    "# other options: vector_ip_ops = inner product, vector_cosine_ops = cosine distance\n",
    "\n",
    "index = Index(\n",
    "    'index',\n",
    "    Embedding.vector,\n",
    "    postgresql_using='hnsw',\n",
    "    postgresql_with={'m':HNSW_m, 'ef_construction':HNSW_efc},\n",
    "    postgresql_ops={'vector':VECTOR_OPS}\n",
    ")\n",
    "index.create(engine)"
   ]
  },
  {
   "cell_type": "code",
   "execution_count": 34,
   "id": "5204aab3-ac58-42f0-96b3-cd6ec8ea2864",
   "metadata": {},
   "outputs": [
    {
     "name": "stdout",
     "output_type": "stream",
     "text": [
      "[(14504,)]\n",
      "[(14504,)]\n"
     ]
    }
   ],
   "source": [
    "with Session(engine) as session:\n",
    "    print(session.execute(text(f\"SELECT COUNT(*) from embedding\")).all())\n",
    "    print(session.execute(text(f\"SELECT COUNT(*) from sentence\")).all())"
   ]
  },
  {
   "cell_type": "code",
   "execution_count": null,
   "id": "f51e93de-da38-4d1d-8cc8-0665f4336521",
   "metadata": {},
   "outputs": [],
   "source": []
  }
 ],
 "metadata": {
  "kernelspec": {
   "display_name": "physics",
   "language": "python",
   "name": "physics"
  },
  "language_info": {
   "codemirror_mode": {
    "name": "ipython",
    "version": 3
   },
   "file_extension": ".py",
   "mimetype": "text/x-python",
   "name": "python",
   "nbconvert_exporter": "python",
   "pygments_lexer": "ipython3",
   "version": "3.11.7"
  }
 },
 "nbformat": 4,
 "nbformat_minor": 5
}
