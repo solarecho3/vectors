{
 "cells": [
  {
   "cell_type": "code",
   "execution_count": 2,
   "metadata": {},
   "outputs": [
    {
     "name": "stderr",
     "output_type": "stream",
     "text": [
      "/Users/adam/Documents/vectors/venv/lib/python3.11/site-packages/fuzzywuzzy/fuzz.py:11: UserWarning: Using slow pure-python SequenceMatcher. Install python-Levenshtein to remove this warning\n",
      "  warnings.warn('Using slow pure-python SequenceMatcher. Install python-Levenshtein to remove this warning')\n"
     ]
    }
   ],
   "source": [
    "import requests as r\n",
    "from fuzzywuzzy import process\n",
    "import pprint\n",
    "pp = pprint.PrettyPrinter(indent=2)"
   ]
  },
  {
   "cell_type": "code",
   "execution_count": 3,
   "metadata": {},
   "outputs": [
    {
     "data": {
      "text/plain": [
       "200"
      ]
     },
     "execution_count": 3,
     "metadata": {},
     "output_type": "execute_result"
    }
   ],
   "source": [
    "response = r.get('https://celestrak.org/NORAD/elements/gp.php?GROUP=active&FORMAT=tle', verify=True)\n",
    "response.status_code\n"
   ]
  },
  {
   "cell_type": "code",
   "execution_count": 4,
   "metadata": {},
   "outputs": [
    {
     "data": {
      "text/plain": [
       "{'query': 'NORSAT',\n",
       " 'match': 'NORSAT 1',\n",
       " 'score': 95,\n",
       " 'tle': ['1 42826U 17042B   25014.49553221  .00008953  00000+0  64024-3 0  9992',\n",
       "  '2 42826  97.4053 193.4589 0009857  69.1836 291.0446 15.04634661408973']}"
      ]
     },
     "execution_count": 4,
     "metadata": {},
     "output_type": "execute_result"
    }
   ],
   "source": [
    "TLE_lines =[line.strip() for line in response.text.split('\\n')]\n",
    "TLE_lines\n",
    "\n",
    "len(TLE_lines)\n",
    "if TLE_lines[-1] == '':\n",
    "    TLE_lines.pop()\n",
    "\n",
    "while len(TLE_lines) % 3 != 0:\n",
    "    TLE_lines.pop()\n",
    "TLEs = {TLE_lines[i]: [TLE_lines[i+1], TLE_lines[i+2]] for i in range(0, len(TLE_lines), 3)}\n",
    "index = list(TLEs.keys())\n",
    "\n",
    "\n",
    "def find_satellite(name):\n",
    "\n",
    "    match = process.extractOne(name, index)\n",
    "    \n",
    "    return {\n",
    "        'query': name,\n",
    "        'match': match[0],\n",
    "        'score': match[1],\n",
    "        'tle': TLEs[match[0]]\n",
    "    }\n",
    "\n",
    "find_satellite('NORSAT')"
   ]
  },
  {
   "cell_type": "code",
   "execution_count": 37,
   "metadata": {},
   "outputs": [
    {
     "name": "stdout",
     "output_type": "stream",
     "text": [
      "NORSAT 1\n",
      "{ 'bstar': '64024-3',\n",
      "  'checksum': '2',\n",
      "  'classification': 'U',\n",
      "  'element_number': ' 999',\n",
      "  'ephemeris_type': '0',\n",
      "  'epoch': '014.49553221',\n",
      "  'epoch_year': '25',\n",
      "  'first_derivative': ' .00008953',\n",
      "  'launch_number': '042',\n",
      "  'launch_piece': 'B  ',\n",
      "  'launch_year': '17',\n",
      "  'line_number': '1',\n",
      "  'satellite_number': '42826',\n",
      "  'second_derivative': '00000+0'}\n",
      "{ 'argument_of_perigee': '7  69.183',\n",
      "  'checksum': '3',\n",
      "  'eccentricity': ' 000985',\n",
      "  'inclination': '  97.4053',\n",
      "  'line_number': '2',\n",
      "  'mean_anomaly': '6 291.044',\n",
      "  'mean_motion': '6 15.0463466',\n",
      "  'revolution_number': '140897',\n",
      "  'right_ascension': ' 193.4589',\n",
      "  'satellite_number': ' 42826'}\n"
     ]
    }
   ],
   "source": [
    "def parse_tle_line1(line):\n",
    "    # Parse each field according to the TLE format specification\n",
    "    data = {\n",
    "        'line_number': line[0:1],\n",
    "        'satellite_number': line[2:7],\n",
    "        'classification': line[7],\n",
    "        'launch_year': line[9:11],\n",
    "        'launch_number': line[11:14],\n",
    "        'launch_piece': line[14:17],\n",
    "        'epoch_year': line[18:20],\n",
    "        'epoch': line[20:32],\n",
    "        'first_derivative': line[33:43],\n",
    "        'second_derivative': line[45:52],\n",
    "        'bstar': line[54:61],\n",
    "        'ephemeris_type': line[62],\n",
    "        'element_number': line[64:68],\n",
    "        'checksum': line[68]\n",
    "    }\n",
    "    \n",
    "    return data\n",
    "\n",
    "def parse_tle_line2(line):\n",
    "    data = {\n",
    "        'line_number': line[0:1],\n",
    "        'satellite_number': line[1:7],\n",
    "        'inclination': line[7:16],\n",
    "        'right_ascension': line[16:25],\n",
    "        'eccentricity': line[25:32],\n",
    "        'argument_of_perigee': line[32:41],\n",
    "        'mean_anomaly': line[41:50], \n",
    "        'mean_motion': line[50:62],\n",
    "        'revolution_number': line[62:68],\n",
    "        'checksum': line[68]\n",
    "    }\n",
    "    return data\n",
    "\n",
    "parse_tle_line2(match['tle'][1])\n",
    "\n",
    "match = find_satellite('NORSAT')\n",
    "print(match['match'])\n",
    "pp.pprint(parse_tle_line1(match['tle'][0]))\n",
    "pp.pprint(parse_tle_line2(match['tle'][1]))\n"
   ]
  },
  {
   "cell_type": "code",
   "execution_count": null,
   "metadata": {},
   "outputs": [],
   "source": []
  }
 ],
 "metadata": {
  "kernelspec": {
   "display_name": "venv",
   "language": "python",
   "name": "python3"
  },
  "language_info": {
   "codemirror_mode": {
    "name": "ipython",
    "version": 3
   },
   "file_extension": ".py",
   "mimetype": "text/x-python",
   "name": "python",
   "nbconvert_exporter": "python",
   "pygments_lexer": "ipython3",
   "version": "3.11.7"
  }
 },
 "nbformat": 4,
 "nbformat_minor": 2
}
