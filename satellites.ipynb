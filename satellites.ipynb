{
 "cells": [
  {
   "cell_type": "code",
   "execution_count": 2,
   "metadata": {},
   "outputs": [
    {
     "name": "stderr",
     "output_type": "stream",
     "text": [
      "/Users/adam/Documents/vectors/venv/lib/python3.11/site-packages/fuzzywuzzy/fuzz.py:11: UserWarning: Using slow pure-python SequenceMatcher. Install python-Levenshtein to remove this warning\n",
      "  warnings.warn('Using slow pure-python SequenceMatcher. Install python-Levenshtein to remove this warning')\n"
     ]
    }
   ],
   "source": [
    "import requests as r\n",
    "from fuzzywuzzy import process\n",
    "import pprint\n",
    "pp = pprint.PrettyPrinter(indent=2)"
   ]
  },
  {
   "cell_type": "code",
   "execution_count": 3,
   "metadata": {},
   "outputs": [
    {
     "data": {
      "text/plain": [
       "200"
      ]
     },
     "execution_count": 3,
     "metadata": {},
     "output_type": "execute_result"
    }
   ],
   "source": [
    "response = r.get('https://celestrak.org/NORAD/elements/gp.php?GROUP=active&FORMAT=tle', verify=True)\n",
    "response.status_code\n",
    "\n",
    "# https://celestrak.org/columns/v04n03/\n",
    "# TLE formats are from this issue of Celestrak's newsletter"
   ]
  },
  {
   "cell_type": "code",
   "execution_count": 7,
   "metadata": {},
   "outputs": [
    {
     "data": {
      "text/plain": [
       "{'query': 'NORSAT',\n",
       " 'match': 'NORSAT 1',\n",
       " 'score': 95,\n",
       " 'tle': ['1 42826U 17042B   25014.49553221  .00008953  00000+0  64024-3 0  9992',\n",
       "  '2 42826  97.4053 193.4589 0009857  69.1836 291.0446 15.04634661408973']}"
      ]
     },
     "execution_count": 7,
     "metadata": {},
     "output_type": "execute_result"
    }
   ],
   "source": [
    "# parse TLEs into a dictionary and index\n",
    "TLE_lines =[line.strip() for line in response.text.split('\\n')]\n",
    "TLE_lines\n",
    "\n",
    "len(TLE_lines)\n",
    "if TLE_lines[-1] == '':\n",
    "    TLE_lines.pop()\n",
    "\n",
    "while len(TLE_lines) % 3 != 0:\n",
    "    TLE_lines.pop()\n",
    "TLEs = {TLE_lines[i]: [TLE_lines[i+1], TLE_lines[i+2]] for i in range(0, len(TLE_lines), 3)}\n",
    "index = list(TLEs.keys())\n",
    "\n",
    "# fuzzy search for a satellite name\n",
    "def find_satellite(name):\n",
    "\n",
    "    match = process.extractOne(name, index)\n",
    "    \n",
    "    return {\n",
    "        'query': name,\n",
    "        'match': match[0],\n",
    "        'score': match[1],\n",
    "        'tle': TLEs[match[0]]\n",
    "    }\n",
    "\n",
    "find_satellite('NORSAT')"
   ]
  },
  {
   "cell_type": "code",
   "execution_count": 9,
   "metadata": {},
   "outputs": [
    {
     "name": "stdout",
     "output_type": "stream",
     "text": [
      "ISS (ZARYA)\n",
      "{ 'bstar': ' 27291-3',\n",
      "  'checksum': '7',\n",
      "  'classification': 'U',\n",
      "  'element_number': ' 999',\n",
      "  'ephemeris_type': '0',\n",
      "  'epoch': '015.13687281',\n",
      "  'epoch_year': '25',\n",
      "  'first_derivative': ' .00015162',\n",
      "  'launch_number': '067',\n",
      "  'launch_piece': 'A  ',\n",
      "  'launch_year': '98',\n",
      "  'line_number': '1',\n",
      "  'satellite_number': '25544',\n",
      "  'second_derivative': ' 00000+0'}\n",
      "{ 'argument_of_perigee': ' 98.9982',\n",
      "  'checksum': '4',\n",
      "  'eccentricity': '0002338',\n",
      "  'inclination': ' 51.6394',\n",
      "  'line_number': '2',\n",
      "  'mean_anomaly': '351.9829',\n",
      "  'mean_motion': '15.50022714',\n",
      "  'revolution_number': '49142',\n",
      "  'right_ascension': '345.1673',\n",
      "  'satellite_number': '25544'}\n"
     ]
    }
   ],
   "source": [
    "def parse_tle_line1(line):\n",
    "    # Parse each field according to the TLE format specification\n",
    "    data = {\n",
    "        'line_number': line[0:1],          # Field 1.1: Line Number\n",
    "        'satellite_number': line[2:7],      # Field 1.2: Satellite Number\n",
    "        'classification': line[7],          # Field 1.3: Classification\n",
    "        'launch_year': line[9:11],         # Field 1.4: Launch Year\n",
    "        'launch_number': line[11:14],      # Field 1.5: Launch number of the year\n",
    "        'launch_piece': line[14:17],       # Field 1.6: Piece of launch\n",
    "        'epoch_year': line[18:20],         # Field 1.7: Epoch Year\n",
    "        'epoch': line[20:32],              # Field 1.8: Epoch Day and fractional\n",
    "        'first_derivative': line[33:43],    # Field 1.9: First Time Derivative\n",
    "        'second_derivative': line[44:52],   # Field 1.10: Second Time Derivative\n",
    "        'bstar': line[53:61],              # Field 1.11: BSTAR drag term\n",
    "        'ephemeris_type': line[62],        # Field 1.12: Ephemeris type\n",
    "        'element_number': line[64:68],      # Field 1.13: Element number\n",
    "        'checksum': line[68]               # Field 1.14: Checksum\n",
    "    }\n",
    "    \n",
    "    return data\n",
    "\n",
    "def parse_tle_line2(line):\n",
    "    data = {\n",
    "        'line_number': line[0:1],          # Field 2.1: Line Number\n",
    "        'satellite_number': line[2:7],      # Field 2.2: Satellite Number\n",
    "        'inclination': line[8:16],         # Field 2.3: Inclination\n",
    "        'right_ascension': line[17:25],    # Field 2.4: Right Ascension\n",
    "        'eccentricity': line[26:33],       # Field 2.5: Eccentricity\n",
    "        'argument_of_perigee': line[34:42], # Field 2.6: Argument of Perigee\n",
    "        'mean_anomaly': line[43:51],       # Field 2.7: Mean Anomaly\n",
    "        'mean_motion': line[52:63],        # Field 2.8: Mean Motion\n",
    "        'revolution_number': line[63:68],   # Field 2.9: Revolution Number\n",
    "        'checksum': line[68]               # Field 2.10: Checksum\n",
    "    }\n",
    "    return data\n",
    "\n",
    "# parse_tle_line2(match['tle'][1])\n",
    "\n",
    "match = find_satellite('ZARYA')\n",
    "print(match['match'])\n",
    "pp.pprint(parse_tle_line1(match['tle'][0]))\n",
    "pp.pprint(parse_tle_line2(match['tle'][1]))\n"
   ]
  },
  {
   "cell_type": "code",
   "execution_count": null,
   "metadata": {},
   "outputs": [],
   "source": []
  }
 ],
 "metadata": {
  "kernelspec": {
   "display_name": "venv",
   "language": "python",
   "name": "python3"
  },
  "language_info": {
   "codemirror_mode": {
    "name": "ipython",
    "version": 3
   },
   "file_extension": ".py",
   "mimetype": "text/x-python",
   "name": "python",
   "nbconvert_exporter": "python",
   "pygments_lexer": "ipython3",
   "version": "3.11.7"
  }
 },
 "nbformat": 4,
 "nbformat_minor": 2
}
